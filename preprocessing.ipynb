{
  "nbformat": 4,
  "nbformat_minor": 0,
  "metadata": {
    "colab": {
      "provenance": [],
      "toc_visible": true,
      "include_colab_link": true
    },
    "kernelspec": {
      "name": "python3",
      "display_name": "Python 3"
    },
    "language_info": {
      "name": "python"
    }
  },
  "cells": [
    {
      "cell_type": "markdown",
      "metadata": {
        "id": "view-in-github",
        "colab_type": "text"
      },
      "source": [
        "<a href=\"https://colab.research.google.com/github/fernandanlisboa/technologies_clf/blob/main/preprocessing.ipynb\" target=\"_parent\"><img src=\"https://colab.research.google.com/assets/colab-badge.svg\" alt=\"Open In Colab\"/></a>"
      ]
    },
    {
      "cell_type": "markdown",
      "source": [
        "# Pré-processamento"
      ],
      "metadata": {
        "id": "q0nq1EaOvt7s"
      }
    },
    {
      "cell_type": "markdown",
      "source": [
        "\n",
        "\n",
        "*   Davi Costa\n",
        "*   Fernanda Lisboa\n",
        "*   João Felipe\n",
        "*   Maria Antônia\n",
        "\n",
        "\n",
        "\n"
      ],
      "metadata": {
        "id": "GZAdlVoZ5r0G"
      }
    },
    {
      "cell_type": "markdown",
      "source": [
        "## Importações"
      ],
      "metadata": {
        "id": "zUka5TX2v1u_"
      }
    },
    {
      "cell_type": "code",
      "source": [
        "import numpy as np\n",
        "import pandas as pd\n",
        "import re\n",
        "import nltk\n",
        "import spacy"
      ],
      "metadata": {
        "id": "xHYPFwtGP3Jp"
      },
      "execution_count": null,
      "outputs": []
    },
    {
      "cell_type": "code",
      "execution_count": null,
      "metadata": {
        "id": "d_HN9Y-8PMtQ"
      },
      "outputs": [],
      "source": [
        "from google.colab import drive\n",
        "from nltk.corpus import stopwords\n",
        "from nltk.stem import WordNetLemmatizer"
      ]
    },
    {
      "cell_type": "markdown",
      "source": [
        "## Dataset\n",
        "##### O dataset utilizado foi disponibilizado pelo professor Braian, e contém pequenos textos retirados de colunas de reportagens ou sites informativos sobre linguagens de programação."
      ],
      "metadata": {
        "id": "L4-wA3FHwCda"
      }
    },
    {
      "cell_type": "code",
      "source": [
        "drive_path = '/content/drive'\n",
        "directory = f'{drive_path}/MyDrive/2023.2/Tópicos em Inteligência/Dasafio 01 - Classificação/Entrega_Desafio_1'\n",
        "#directory = f'{drive_path}/MyDrive/Dasafio 01 - Classificação'\n",
        "csv_file = 'base_textos_stack.csv'"
      ],
      "metadata": {
        "id": "zQ-RpvE6PxL6"
      },
      "execution_count": null,
      "outputs": []
    },
    {
      "cell_type": "code",
      "source": [
        "#Conexão com diretório do google drive\n",
        "drive.mount(drive_path)"
      ],
      "metadata": {
        "colab": {
          "base_uri": "https://localhost:8080/"
        },
        "id": "IVobDHJAQcb3",
        "outputId": "30cb0485-ca12-498b-c445-2ac707a78a0d"
      },
      "execution_count": null,
      "outputs": [
        {
          "output_type": "stream",
          "name": "stdout",
          "text": [
            "Drive already mounted at /content/drive; to attempt to forcibly remount, call drive.mount(\"/content/drive\", force_remount=True).\n"
          ]
        }
      ]
    },
    {
      "cell_type": "code",
      "source": [
        "from google.colab import drive\n",
        "drive.mount('/content/drive')"
      ],
      "metadata": {
        "colab": {
          "base_uri": "https://localhost:8080/"
        },
        "id": "fHesvHf7vYun",
        "outputId": "e7a3ea19-25ea-4a7e-ad25-d4060ffd6c73"
      },
      "execution_count": null,
      "outputs": [
        {
          "output_type": "stream",
          "name": "stdout",
          "text": [
            "Drive already mounted at /content/drive; to attempt to forcibly remount, call drive.mount(\"/content/drive\", force_remount=True).\n"
          ]
        }
      ]
    },
    {
      "cell_type": "code",
      "source": [
        "#Leitura do dataset\n",
        "df = pd.read_csv(f'{directory}/base_textos_stack.csv')"
      ],
      "metadata": {
        "id": "BGwZ2qoJQevx"
      },
      "execution_count": null,
      "outputs": []
    },
    {
      "cell_type": "code",
      "source": [
        "df.head()"
      ],
      "metadata": {
        "id": "pbzn1WuKQ_59",
        "colab": {
          "base_uri": "https://localhost:8080/",
          "height": 206
        },
        "outputId": "c0a8ffbb-8aca-4146-904f-34c3c382641f"
      },
      "execution_count": null,
      "outputs": [
        {
          "output_type": "execute_result",
          "data": {
            "text/plain": [
              "                                             excerpt  classification\n",
              "0                  Software-defined networking (SDN)               1\n",
              "1  SPDY is an experimental protocol for multiplex...               1\n",
              "2  ASP.NET SignalR is a library for ASP.NET devel...               0\n",
              "3  Apache Kafka is a publish-subscribe messaging ...               2\n",
              "4  Kubernetes is an open source implementation of...               1"
            ],
            "text/html": [
              "\n",
              "  <div id=\"df-0d3d3aed-2baf-4c29-8734-f1947d372a07\" class=\"colab-df-container\">\n",
              "    <div>\n",
              "<style scoped>\n",
              "    .dataframe tbody tr th:only-of-type {\n",
              "        vertical-align: middle;\n",
              "    }\n",
              "\n",
              "    .dataframe tbody tr th {\n",
              "        vertical-align: top;\n",
              "    }\n",
              "\n",
              "    .dataframe thead th {\n",
              "        text-align: right;\n",
              "    }\n",
              "</style>\n",
              "<table border=\"1\" class=\"dataframe\">\n",
              "  <thead>\n",
              "    <tr style=\"text-align: right;\">\n",
              "      <th></th>\n",
              "      <th>excerpt</th>\n",
              "      <th>classification</th>\n",
              "    </tr>\n",
              "  </thead>\n",
              "  <tbody>\n",
              "    <tr>\n",
              "      <th>0</th>\n",
              "      <td>Software-defined networking (SDN)</td>\n",
              "      <td>1</td>\n",
              "    </tr>\n",
              "    <tr>\n",
              "      <th>1</th>\n",
              "      <td>SPDY is an experimental protocol for multiplex...</td>\n",
              "      <td>1</td>\n",
              "    </tr>\n",
              "    <tr>\n",
              "      <th>2</th>\n",
              "      <td>ASP.NET SignalR is a library for ASP.NET devel...</td>\n",
              "      <td>0</td>\n",
              "    </tr>\n",
              "    <tr>\n",
              "      <th>3</th>\n",
              "      <td>Apache Kafka is a publish-subscribe messaging ...</td>\n",
              "      <td>2</td>\n",
              "    </tr>\n",
              "    <tr>\n",
              "      <th>4</th>\n",
              "      <td>Kubernetes is an open source implementation of...</td>\n",
              "      <td>1</td>\n",
              "    </tr>\n",
              "  </tbody>\n",
              "</table>\n",
              "</div>\n",
              "    <div class=\"colab-df-buttons\">\n",
              "\n",
              "  <div class=\"colab-df-container\">\n",
              "    <button class=\"colab-df-convert\" onclick=\"convertToInteractive('df-0d3d3aed-2baf-4c29-8734-f1947d372a07')\"\n",
              "            title=\"Convert this dataframe to an interactive table.\"\n",
              "            style=\"display:none;\">\n",
              "\n",
              "  <svg xmlns=\"http://www.w3.org/2000/svg\" height=\"24px\" viewBox=\"0 -960 960 960\">\n",
              "    <path d=\"M120-120v-720h720v720H120Zm60-500h600v-160H180v160Zm220 220h160v-160H400v160Zm0 220h160v-160H400v160ZM180-400h160v-160H180v160Zm440 0h160v-160H620v160ZM180-180h160v-160H180v160Zm440 0h160v-160H620v160Z\"/>\n",
              "  </svg>\n",
              "    </button>\n",
              "\n",
              "  <style>\n",
              "    .colab-df-container {\n",
              "      display:flex;\n",
              "      gap: 12px;\n",
              "    }\n",
              "\n",
              "    .colab-df-convert {\n",
              "      background-color: #E8F0FE;\n",
              "      border: none;\n",
              "      border-radius: 50%;\n",
              "      cursor: pointer;\n",
              "      display: none;\n",
              "      fill: #1967D2;\n",
              "      height: 32px;\n",
              "      padding: 0 0 0 0;\n",
              "      width: 32px;\n",
              "    }\n",
              "\n",
              "    .colab-df-convert:hover {\n",
              "      background-color: #E2EBFA;\n",
              "      box-shadow: 0px 1px 2px rgba(60, 64, 67, 0.3), 0px 1px 3px 1px rgba(60, 64, 67, 0.15);\n",
              "      fill: #174EA6;\n",
              "    }\n",
              "\n",
              "    .colab-df-buttons div {\n",
              "      margin-bottom: 4px;\n",
              "    }\n",
              "\n",
              "    [theme=dark] .colab-df-convert {\n",
              "      background-color: #3B4455;\n",
              "      fill: #D2E3FC;\n",
              "    }\n",
              "\n",
              "    [theme=dark] .colab-df-convert:hover {\n",
              "      background-color: #434B5C;\n",
              "      box-shadow: 0px 1px 3px 1px rgba(0, 0, 0, 0.15);\n",
              "      filter: drop-shadow(0px 1px 2px rgba(0, 0, 0, 0.3));\n",
              "      fill: #FFFFFF;\n",
              "    }\n",
              "  </style>\n",
              "\n",
              "    <script>\n",
              "      const buttonEl =\n",
              "        document.querySelector('#df-0d3d3aed-2baf-4c29-8734-f1947d372a07 button.colab-df-convert');\n",
              "      buttonEl.style.display =\n",
              "        google.colab.kernel.accessAllowed ? 'block' : 'none';\n",
              "\n",
              "      async function convertToInteractive(key) {\n",
              "        const element = document.querySelector('#df-0d3d3aed-2baf-4c29-8734-f1947d372a07');\n",
              "        const dataTable =\n",
              "          await google.colab.kernel.invokeFunction('convertToInteractive',\n",
              "                                                    [key], {});\n",
              "        if (!dataTable) return;\n",
              "\n",
              "        const docLinkHtml = 'Like what you see? Visit the ' +\n",
              "          '<a target=\"_blank\" href=https://colab.research.google.com/notebooks/data_table.ipynb>data table notebook</a>'\n",
              "          + ' to learn more about interactive tables.';\n",
              "        element.innerHTML = '';\n",
              "        dataTable['output_type'] = 'display_data';\n",
              "        await google.colab.output.renderOutput(dataTable, element);\n",
              "        const docLink = document.createElement('div');\n",
              "        docLink.innerHTML = docLinkHtml;\n",
              "        element.appendChild(docLink);\n",
              "      }\n",
              "    </script>\n",
              "  </div>\n",
              "\n",
              "\n",
              "<div id=\"df-0da85b44-8358-4f49-b2f0-d9e14eaebbf8\">\n",
              "  <button class=\"colab-df-quickchart\" onclick=\"quickchart('df-0da85b44-8358-4f49-b2f0-d9e14eaebbf8')\"\n",
              "            title=\"Suggest charts.\"\n",
              "            style=\"display:none;\">\n",
              "\n",
              "<svg xmlns=\"http://www.w3.org/2000/svg\" height=\"24px\"viewBox=\"0 0 24 24\"\n",
              "     width=\"24px\">\n",
              "    <g>\n",
              "        <path d=\"M19 3H5c-1.1 0-2 .9-2 2v14c0 1.1.9 2 2 2h14c1.1 0 2-.9 2-2V5c0-1.1-.9-2-2-2zM9 17H7v-7h2v7zm4 0h-2V7h2v10zm4 0h-2v-4h2v4z\"/>\n",
              "    </g>\n",
              "</svg>\n",
              "  </button>\n",
              "\n",
              "<style>\n",
              "  .colab-df-quickchart {\n",
              "      --bg-color: #E8F0FE;\n",
              "      --fill-color: #1967D2;\n",
              "      --hover-bg-color: #E2EBFA;\n",
              "      --hover-fill-color: #174EA6;\n",
              "      --disabled-fill-color: #AAA;\n",
              "      --disabled-bg-color: #DDD;\n",
              "  }\n",
              "\n",
              "  [theme=dark] .colab-df-quickchart {\n",
              "      --bg-color: #3B4455;\n",
              "      --fill-color: #D2E3FC;\n",
              "      --hover-bg-color: #434B5C;\n",
              "      --hover-fill-color: #FFFFFF;\n",
              "      --disabled-bg-color: #3B4455;\n",
              "      --disabled-fill-color: #666;\n",
              "  }\n",
              "\n",
              "  .colab-df-quickchart {\n",
              "    background-color: var(--bg-color);\n",
              "    border: none;\n",
              "    border-radius: 50%;\n",
              "    cursor: pointer;\n",
              "    display: none;\n",
              "    fill: var(--fill-color);\n",
              "    height: 32px;\n",
              "    padding: 0;\n",
              "    width: 32px;\n",
              "  }\n",
              "\n",
              "  .colab-df-quickchart:hover {\n",
              "    background-color: var(--hover-bg-color);\n",
              "    box-shadow: 0 1px 2px rgba(60, 64, 67, 0.3), 0 1px 3px 1px rgba(60, 64, 67, 0.15);\n",
              "    fill: var(--button-hover-fill-color);\n",
              "  }\n",
              "\n",
              "  .colab-df-quickchart-complete:disabled,\n",
              "  .colab-df-quickchart-complete:disabled:hover {\n",
              "    background-color: var(--disabled-bg-color);\n",
              "    fill: var(--disabled-fill-color);\n",
              "    box-shadow: none;\n",
              "  }\n",
              "\n",
              "  .colab-df-spinner {\n",
              "    border: 2px solid var(--fill-color);\n",
              "    border-color: transparent;\n",
              "    border-bottom-color: var(--fill-color);\n",
              "    animation:\n",
              "      spin 1s steps(1) infinite;\n",
              "  }\n",
              "\n",
              "  @keyframes spin {\n",
              "    0% {\n",
              "      border-color: transparent;\n",
              "      border-bottom-color: var(--fill-color);\n",
              "      border-left-color: var(--fill-color);\n",
              "    }\n",
              "    20% {\n",
              "      border-color: transparent;\n",
              "      border-left-color: var(--fill-color);\n",
              "      border-top-color: var(--fill-color);\n",
              "    }\n",
              "    30% {\n",
              "      border-color: transparent;\n",
              "      border-left-color: var(--fill-color);\n",
              "      border-top-color: var(--fill-color);\n",
              "      border-right-color: var(--fill-color);\n",
              "    }\n",
              "    40% {\n",
              "      border-color: transparent;\n",
              "      border-right-color: var(--fill-color);\n",
              "      border-top-color: var(--fill-color);\n",
              "    }\n",
              "    60% {\n",
              "      border-color: transparent;\n",
              "      border-right-color: var(--fill-color);\n",
              "    }\n",
              "    80% {\n",
              "      border-color: transparent;\n",
              "      border-right-color: var(--fill-color);\n",
              "      border-bottom-color: var(--fill-color);\n",
              "    }\n",
              "    90% {\n",
              "      border-color: transparent;\n",
              "      border-bottom-color: var(--fill-color);\n",
              "    }\n",
              "  }\n",
              "</style>\n",
              "\n",
              "  <script>\n",
              "    async function quickchart(key) {\n",
              "      const quickchartButtonEl =\n",
              "        document.querySelector('#' + key + ' button');\n",
              "      quickchartButtonEl.disabled = true;  // To prevent multiple clicks.\n",
              "      quickchartButtonEl.classList.add('colab-df-spinner');\n",
              "      try {\n",
              "        const charts = await google.colab.kernel.invokeFunction(\n",
              "            'suggestCharts', [key], {});\n",
              "      } catch (error) {\n",
              "        console.error('Error during call to suggestCharts:', error);\n",
              "      }\n",
              "      quickchartButtonEl.classList.remove('colab-df-spinner');\n",
              "      quickchartButtonEl.classList.add('colab-df-quickchart-complete');\n",
              "    }\n",
              "    (() => {\n",
              "      let quickchartButtonEl =\n",
              "        document.querySelector('#df-0da85b44-8358-4f49-b2f0-d9e14eaebbf8 button');\n",
              "      quickchartButtonEl.style.display =\n",
              "        google.colab.kernel.accessAllowed ? 'block' : 'none';\n",
              "    })();\n",
              "  </script>\n",
              "</div>\n",
              "    </div>\n",
              "  </div>\n"
            ]
          },
          "metadata": {},
          "execution_count": 36
        }
      ]
    },
    {
      "cell_type": "markdown",
      "source": [
        "## Limpeza do Texto"
      ],
      "metadata": {
        "id": "8mgxITszwO35"
      }
    },
    {
      "cell_type": "code",
      "source": [
        "#Função para trocar caracteres especiais em nomes reservados\n",
        "def replacer(text):\n",
        "  return text.replace(\"C#\",\"csharp\").replace(\".NET\",\"dotNET\").replace(\"F#\",\"Fsharp\")"
      ],
      "metadata": {
        "id": "ZAYj1JZm9C-m"
      },
      "execution_count": null,
      "outputs": []
    },
    {
      "cell_type": "code",
      "source": [
        "#Regex para retirar os links\n",
        "link_pattern = r'http[s]?://(?:[a-zA-Z]|[0-9]|[$-_@.&+]|[!*\\\\(\\\\),]|(?:%[0-9a-fA-F][0-9a-fA-F]))+'"
      ],
      "metadata": {
        "id": "j5qdzFEzMB6Y"
      },
      "execution_count": null,
      "outputs": []
    },
    {
      "cell_type": "code",
      "source": [
        "# Função para Limapr a base\n",
        "def clean_text(text):\n",
        "    text = replacer(text)\n",
        "    text_without_links = re.sub(link_pattern, '', text)\n",
        "\n",
        "    # Substitui espaços duplicados por um único espaço\n",
        "    cleaned_text = re.sub(r' +', ' ', text_without_links)\n",
        "    # Troca letras maiúsculas por minúsculas\n",
        "    lower_text = cleaned_text.lower()\n",
        "\n",
        "    # Garante que não haja espaços no início ou no final da string\n",
        "    return lower_text.strip()"
      ],
      "metadata": {
        "id": "mO11Wy2cWUpA"
      },
      "execution_count": null,
      "outputs": []
    },
    {
      "cell_type": "markdown",
      "source": [
        "Após análisar o dataset a equipe observou que os números não apresentam significância para a lemmatização e nem para o treino do modelo, sendo assim, foram todos os números foram removidos do dataset."
      ],
      "metadata": {
        "id": "YJcU7tyxK0T4"
      }
    },
    {
      "cell_type": "code",
      "source": [
        "# Limpando a base\n",
        "df['excerpt_parsed'] = [clean_text(content) for content in df['excerpt']]"
      ],
      "metadata": {
        "id": "RjAa4L5ThQVc"
      },
      "execution_count": null,
      "outputs": []
    },
    {
      "cell_type": "code",
      "source": [
        "print('Antes da limpeza:')\n",
        "example = df.loc[2]\n",
        "print(example['excerpt'])\n",
        "\n",
        "print('\\n\\nDepois da limpeza:')\n",
        "print(example['excerpt_parsed'])"
      ],
      "metadata": {
        "id": "aqr4Xlr3VFhE",
        "colab": {
          "base_uri": "https://localhost:8080/"
        },
        "outputId": "af7c058b-7b94-4f18-99c5-243c0c8384b4"
      },
      "execution_count": null,
      "outputs": [
        {
          "output_type": "stream",
          "name": "stdout",
          "text": [
            "Antes da limpeza:\n",
            "ASP.NET SignalR is a library for ASP.NET developers that makes it incredibly simple to add real-time web functionality to your applications. What is \"real-time web\" functionality? It's the ability to have your server-side code push content to the connected clients as it happens, in real-time.\n",
            "\n",
            "\n",
            "Depois da limpeza:\n",
            "aspdotnet signalr is a library for aspdotnet developers that makes it incredibly simple to add real-time web functionality to your applications. what is \"real-time web\" functionality? it's the ability to have your server-side code push content to the connected clients as it happens, in real-time.\n"
          ]
        }
      ]
    },
    {
      "cell_type": "markdown",
      "source": [
        "## *Stop Words*"
      ],
      "metadata": {
        "id": "Y0FnLAey0iwi"
      }
    },
    {
      "cell_type": "code",
      "source": [
        "# Baixando as listas de stopwords\n",
        "nltk.download('stopwords')"
      ],
      "metadata": {
        "id": "-kPrY2T7ZD5K",
        "colab": {
          "base_uri": "https://localhost:8080/"
        },
        "outputId": "3ac129e0-277b-4b9f-9d2c-a9dd89b48ce3"
      },
      "execution_count": null,
      "outputs": [
        {
          "output_type": "stream",
          "name": "stderr",
          "text": [
            "[nltk_data] Downloading package stopwords to /root/nltk_data...\n",
            "[nltk_data]   Unzipping corpora/stopwords.zip.\n"
          ]
        },
        {
          "output_type": "execute_result",
          "data": {
            "text/plain": [
              "True"
            ]
          },
          "metadata": {},
          "execution_count": 42
        }
      ]
    },
    {
      "cell_type": "code",
      "source": [
        "# Carregando a lista de stopwords em inglês\n",
        "stop_words = list(stopwords.words('english'))\n",
        "print(stop_words)"
      ],
      "metadata": {
        "id": "b93-Pc42bqbx",
        "colab": {
          "base_uri": "https://localhost:8080/"
        },
        "outputId": "e144ce95-4d92-4e1c-e19d-d22ddcc64285"
      },
      "execution_count": null,
      "outputs": [
        {
          "output_type": "stream",
          "name": "stdout",
          "text": [
            "['i', 'me', 'my', 'myself', 'we', 'our', 'ours', 'ourselves', 'you', \"you're\", \"you've\", \"you'll\", \"you'd\", 'your', 'yours', 'yourself', 'yourselves', 'he', 'him', 'his', 'himself', 'she', \"she's\", 'her', 'hers', 'herself', 'it', \"it's\", 'its', 'itself', 'they', 'them', 'their', 'theirs', 'themselves', 'what', 'which', 'who', 'whom', 'this', 'that', \"that'll\", 'these', 'those', 'am', 'is', 'are', 'was', 'were', 'be', 'been', 'being', 'have', 'has', 'had', 'having', 'do', 'does', 'did', 'doing', 'a', 'an', 'the', 'and', 'but', 'if', 'or', 'because', 'as', 'until', 'while', 'of', 'at', 'by', 'for', 'with', 'about', 'against', 'between', 'into', 'through', 'during', 'before', 'after', 'above', 'below', 'to', 'from', 'up', 'down', 'in', 'out', 'on', 'off', 'over', 'under', 'again', 'further', 'then', 'once', 'here', 'there', 'when', 'where', 'why', 'how', 'all', 'any', 'both', 'each', 'few', 'more', 'most', 'other', 'some', 'such', 'no', 'nor', 'not', 'only', 'own', 'same', 'so', 'than', 'too', 'very', 's', 't', 'can', 'will', 'just', 'don', \"don't\", 'should', \"should've\", 'now', 'd', 'll', 'm', 'o', 're', 've', 'y', 'ain', 'aren', \"aren't\", 'couldn', \"couldn't\", 'didn', \"didn't\", 'doesn', \"doesn't\", 'hadn', \"hadn't\", 'hasn', \"hasn't\", 'haven', \"haven't\", 'isn', \"isn't\", 'ma', 'mightn', \"mightn't\", 'mustn', \"mustn't\", 'needn', \"needn't\", 'shan', \"shan't\", 'shouldn', \"shouldn't\", 'wasn', \"wasn't\", 'weren', \"weren't\", 'won', \"won't\", 'wouldn', \"wouldn't\"]\n"
          ]
        }
      ]
    },
    {
      "cell_type": "markdown",
      "source": [
        "## Lematização"
      ],
      "metadata": {
        "id": "1YcS0jhF1Ru8"
      }
    },
    {
      "cell_type": "markdown",
      "source": [
        "**Stemming**: Este método tenta cortar o sufixo (e em alguns casos o prefixo) das palavras para obter a raiz. Por exemplo, o stem (raiz) da palavra \"correndo\" pode ser \"corr\". É geralmente mais rudimentar e pode não resultar sempre em palavras que têm um significado claro por si mesmas. Por exemplo, \"universidade\" e \"universal\" podem ser reduzidas ao mesmo stem \"univers\". Tende a ser mais rápido e menos complexo, pois usa algoritmos heurísticos para cortar os sufixos das palavras.\n",
        "\n",
        "\n",
        "\n",
        "**Lematização**: Este método tenta reduzir a palavra à sua forma base ou dicionário usando um vocabulário e análise morfológica da palavra. Por exemplo, a lema da palavra \"correndo\" seria \"correr\". Considera o contexto e converte a palavra para o seu significado base, o que é conhecido como lema. É mais preciso que o stemming e geralmente resulta em palavras que estão presentes no dicionário. Pode ser mais lento e requer mais recursos, pois considera o contexto gramatical da palavra e exige um vocabulário e uma análise morfológica. Em algumas línguas, como o inglês, isso pode envolver considerações adicionais, como determinar a parte da fala de uma palavra no contexto."
      ],
      "metadata": {
        "id": "Q5OzwOMfdr9u"
      }
    },
    {
      "cell_type": "code",
      "source": [
        "# WordNet é uma grande base de dados léxica da língua inglesa\n",
        "nltk.download('wordnet')\n",
        "\n",
        "# Punkt é um modelo usado pelo NLTK para tokenizar sentenças.\n",
        "nltk.download('punkt')\n",
        "\n",
        "# Ele é usado para determinar a classe gramatical de cada palavra em uma sentença (por exemplo, substantivo, verbo, adjetivo, etc.).\n",
        "nltk.download('averaged_perceptron_tagger')\n"
      ],
      "metadata": {
        "id": "Z77JdmUjb3tC",
        "colab": {
          "base_uri": "https://localhost:8080/"
        },
        "outputId": "3851d5be-552a-4578-af09-43f339403d88"
      },
      "execution_count": null,
      "outputs": [
        {
          "output_type": "stream",
          "name": "stderr",
          "text": [
            "[nltk_data] Downloading package wordnet to /root/nltk_data...\n",
            "[nltk_data] Downloading package punkt to /root/nltk_data...\n",
            "[nltk_data]   Unzipping tokenizers/punkt.zip.\n",
            "[nltk_data] Downloading package averaged_perceptron_tagger to\n",
            "[nltk_data]     /root/nltk_data...\n",
            "[nltk_data]   Unzipping taggers/averaged_perceptron_tagger.zip.\n"
          ]
        },
        {
          "output_type": "execute_result",
          "data": {
            "text/plain": [
              "True"
            ]
          },
          "metadata": {},
          "execution_count": 44
        }
      ]
    },
    {
      "cell_type": "code",
      "source": [
        "nlp = spacy.load(\"en_core_web_sm\")\n",
        "\n",
        "# Retorna o token da palavra que não seja uma stop word\n",
        "func_lematizator = lambda x: \" \".join([w.lemma_ for w in nlp(x) if w.text not in stop_words])\n",
        "\n",
        "df['excerpt_lem'] = df['excerpt_parsed'].apply(func_lematizator)"
      ],
      "metadata": {
        "id": "MMwWqvUMekp0"
      },
      "execution_count": null,
      "outputs": []
    },
    {
      "cell_type": "code",
      "source": [
        "print('Antes da lematização:')\n",
        "print(df['excerpt_parsed'])\n",
        "\n",
        "print('\\n\\nDepois da lematização:')\n",
        "print(df['excerpt_lem'])"
      ],
      "metadata": {
        "id": "Afs_3AEHf3cJ",
        "colab": {
          "base_uri": "https://localhost:8080/"
        },
        "outputId": "9628f267-b022-48fb-ca6c-748109cf2ebd"
      },
      "execution_count": null,
      "outputs": [
        {
          "output_type": "stream",
          "name": "stdout",
          "text": [
            "Antes da lematização:\n",
            "0                      software-defined networking (sdn)\n",
            "1      spdy is an experimental protocol for multiplex...\n",
            "2      aspdotnet signalr is a library for aspdotnet d...\n",
            "3      apache kafka is a publish-subscribe messaging ...\n",
            "4      kubernetes is an open source implementation of...\n",
            "                             ...                        \n",
            "262    docker provides a high-level api to containeri...\n",
            "263    axon is a java application framework for imple...\n",
            "264    html5 (hyper text markup language, version 5) ...\n",
            "265    csharp 4.0 introduced features like dynamic ob...\n",
            "266    nancy is a lightweight web framework for the ....\n",
            "Name: excerpt_parsed, Length: 267, dtype: object\n",
            "\n",
            "\n",
            "Depois da lematização:\n",
            "0                   software - define networking ( sdn )\n",
            "1      spdy experimental protocol multiplexe multiple...\n",
            "2      aspdotnet signalr library aspdotnet developer ...\n",
            "3      apache kafka publish - subscribe messaging fra...\n",
            "4      kubernete open source implementation container...\n",
            "                             ...                        \n",
            "262    docker provide high - level api containerize u...\n",
            "263    axon java application framework implement soft...\n",
            "264    html5 ( hyper text markup language , version 5...\n",
            "265    csharp 4.0 introduce feature like dynamic obje...\n",
            "266    nancy lightweight web framework .net platform ...\n",
            "Name: excerpt_lem, Length: 267, dtype: object\n"
          ]
        }
      ]
    },
    {
      "cell_type": "markdown",
      "source": [
        "## Exportando Resultados"
      ],
      "metadata": {
        "id": "WMWAV1iG1L2j"
      }
    },
    {
      "cell_type": "code",
      "source": [
        "#Função para retirar os caracteres especiais\n",
        "def clean_especial_chars(text):\n",
        "    text_without_special_chars = re.sub(r'[^a-zA-Z ]+', '', text).lower().strip()\n",
        "\n",
        "    return text_without_special_chars"
      ],
      "metadata": {
        "id": "-ICkNQyfSvFU"
      },
      "execution_count": null,
      "outputs": []
    },
    {
      "cell_type": "code",
      "source": [
        "df['excerpt_lem'] = [clean_especial_chars(content) for content in df['excerpt_lem']]"
      ],
      "metadata": {
        "id": "jxRGchpyS8-5"
      },
      "execution_count": null,
      "outputs": []
    },
    {
      "cell_type": "code",
      "source": [
        "# Exportando CSV pré processado\n",
        "df = df.drop(['excerpt', 'excerpt_parsed'], axis=1)\n",
        "df.to_csv(f'{directory}/base_textos_pre_processada.csv', sep='|', index=False)"
      ],
      "metadata": {
        "id": "D9VgrXTanMk3"
      },
      "execution_count": null,
      "outputs": []
    }
  ]
}