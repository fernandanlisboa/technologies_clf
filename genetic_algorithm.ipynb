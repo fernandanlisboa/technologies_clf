{
  "cells": [
    {
      "cell_type": "markdown",
      "metadata": {
        "id": "view-in-github",
        "colab_type": "text"
      },
      "source": [
        "<a href=\"https://colab.research.google.com/github/fernandanlisboa/technologies_clf/blob/main/genetic_algorithm.ipynb\" target=\"_parent\"><img src=\"https://colab.research.google.com/assets/colab-badge.svg\" alt=\"Open In Colab\"/></a>"
      ]
    },
    {
      "cell_type": "markdown",
      "metadata": {
        "id": "2Vt5YME0H3XB"
      },
      "source": [
        "# Configuração e Instalação"
      ]
    },
    {
      "cell_type": "markdown",
      "metadata": {
        "id": "GZAdlVoZ5r0G"
      },
      "source": [
        "\n",
        "\n",
        "*   Davi Costa\n",
        "*   Fernanda Lisboa\n",
        "*   João Felipe\n",
        "*   Maria Antônia\n",
        "\n",
        "\n",
        "\n"
      ]
    },
    {
      "cell_type": "code",
      "execution_count": null,
      "metadata": {
        "id": "vybIjLfJfZT-"
      },
      "outputs": [],
      "source": [
        "import os\n",
        "from google.colab import drive\n",
        "import random\n",
        "import itertools\n",
        "import math\n",
        "import numpy as np\n",
        "import pandas as pd\n",
        "\n",
        "from sklearn.ensemble import RandomForestClassifier, GradientBoostingClassifier, HistGradientBoostingClassifier\n",
        "from sklearn.tree import DecisionTreeClassifier\n",
        "from sklearn.feature_selection import SelectKBest, chi2\n",
        "from sklearn.feature_selection import chi2\n",
        "from sklearn.feature_extraction.text import TfidfVectorizer\n",
        "from sklearn.model_selection import train_test_split\n",
        "from sklearn.model_selection import RandomizedSearchCV\n",
        "from sklearn.metrics import classification_report, confusion_matrix, accuracy_score, f1_score\n",
        "from sklearn.metrics import make_scorer\n",
        "\n",
        "import seaborn as sns\n",
        "import matplotlib.pyplot as plt"
      ]
    },
    {
      "cell_type": "code",
      "execution_count": null,
      "metadata": {
        "id": "31mCYwOmJuUP"
      },
      "outputs": [],
      "source": [
        "# Deixar a somente fixa para saber por que uma alteração do código provocou uma melhora ou piora\n",
        "# Ajuda a todas as vezes que você rodar encontrar os mesmos resultados\n",
        "# É preciso fixar as duas pois uma afeta a outra\n",
        "np.random.seed(42)\n",
        "random.seed(42)"
      ]
    },
    {
      "cell_type": "code",
      "execution_count": null,
      "metadata": {
        "id": "S5m-G1zvflad"
      },
      "outputs": [],
      "source": [
        "drive_path = '/content/drive'\n",
        "directory = f'{drive_path}/MyDrive/Dasafio 01 - Classificação/Entrega_Desafio_1'\n",
        "#directory = f'{drive_path}/MyDrive/Dasafio 01 - Classificação/Entrega_Desafio_1'\n",
        "csv_file = 'base_textos_pre_processada.csv'"
      ]
    },
    {
      "cell_type": "code",
      "execution_count": null,
      "metadata": {
        "id": "uG8kmZIWgj1v",
        "colab": {
          "base_uri": "https://localhost:8080/"
        },
        "outputId": "3fcc4c82-13ef-49f1-c648-894f97a34fd9"
      },
      "outputs": [
        {
          "output_type": "stream",
          "name": "stdout",
          "text": [
            "Mounted at /content/drive\n"
          ]
        }
      ],
      "source": [
        "drive.mount(drive_path)"
      ]
    },
    {
      "cell_type": "code",
      "execution_count": null,
      "metadata": {
        "id": "oXTN_NqqGIbW"
      },
      "outputs": [],
      "source": [
        "df = pd.read_csv(f\"{directory}/{csv_file}\", sep=\"|\")"
      ]
    },
    {
      "cell_type": "code",
      "execution_count": null,
      "metadata": {
        "colab": {
          "base_uri": "https://localhost:8080/",
          "height": 206
        },
        "id": "8u8CHuvNk0rq",
        "outputId": "1abcdf59-e3fe-42e5-9a37-fba19d8d8aef"
      },
      "outputs": [
        {
          "output_type": "execute_result",
          "data": {
            "text/plain": [
              "   classification                                        excerpt_lem\n",
              "0               1                   software  define networking  sdn\n",
              "1               1  spdy experimental protocol multiplexe multiple...\n",
              "2               0  aspdotnet signalr library aspdotnet developer ...\n",
              "3               2  apache kafka publish  subscribe messaging fram...\n",
              "4               1  kubernete open source implementation container..."
            ],
            "text/html": [
              "\n",
              "  <div id=\"df-0b4a5e64-7d51-4019-92f6-7ff0bb0bd361\" class=\"colab-df-container\">\n",
              "    <div>\n",
              "<style scoped>\n",
              "    .dataframe tbody tr th:only-of-type {\n",
              "        vertical-align: middle;\n",
              "    }\n",
              "\n",
              "    .dataframe tbody tr th {\n",
              "        vertical-align: top;\n",
              "    }\n",
              "\n",
              "    .dataframe thead th {\n",
              "        text-align: right;\n",
              "    }\n",
              "</style>\n",
              "<table border=\"1\" class=\"dataframe\">\n",
              "  <thead>\n",
              "    <tr style=\"text-align: right;\">\n",
              "      <th></th>\n",
              "      <th>classification</th>\n",
              "      <th>excerpt_lem</th>\n",
              "    </tr>\n",
              "  </thead>\n",
              "  <tbody>\n",
              "    <tr>\n",
              "      <th>0</th>\n",
              "      <td>1</td>\n",
              "      <td>software  define networking  sdn</td>\n",
              "    </tr>\n",
              "    <tr>\n",
              "      <th>1</th>\n",
              "      <td>1</td>\n",
              "      <td>spdy experimental protocol multiplexe multiple...</td>\n",
              "    </tr>\n",
              "    <tr>\n",
              "      <th>2</th>\n",
              "      <td>0</td>\n",
              "      <td>aspdotnet signalr library aspdotnet developer ...</td>\n",
              "    </tr>\n",
              "    <tr>\n",
              "      <th>3</th>\n",
              "      <td>2</td>\n",
              "      <td>apache kafka publish  subscribe messaging fram...</td>\n",
              "    </tr>\n",
              "    <tr>\n",
              "      <th>4</th>\n",
              "      <td>1</td>\n",
              "      <td>kubernete open source implementation container...</td>\n",
              "    </tr>\n",
              "  </tbody>\n",
              "</table>\n",
              "</div>\n",
              "    <div class=\"colab-df-buttons\">\n",
              "\n",
              "  <div class=\"colab-df-container\">\n",
              "    <button class=\"colab-df-convert\" onclick=\"convertToInteractive('df-0b4a5e64-7d51-4019-92f6-7ff0bb0bd361')\"\n",
              "            title=\"Convert this dataframe to an interactive table.\"\n",
              "            style=\"display:none;\">\n",
              "\n",
              "  <svg xmlns=\"http://www.w3.org/2000/svg\" height=\"24px\" viewBox=\"0 -960 960 960\">\n",
              "    <path d=\"M120-120v-720h720v720H120Zm60-500h600v-160H180v160Zm220 220h160v-160H400v160Zm0 220h160v-160H400v160ZM180-400h160v-160H180v160Zm440 0h160v-160H620v160ZM180-180h160v-160H180v160Zm440 0h160v-160H620v160Z\"/>\n",
              "  </svg>\n",
              "    </button>\n",
              "\n",
              "  <style>\n",
              "    .colab-df-container {\n",
              "      display:flex;\n",
              "      gap: 12px;\n",
              "    }\n",
              "\n",
              "    .colab-df-convert {\n",
              "      background-color: #E8F0FE;\n",
              "      border: none;\n",
              "      border-radius: 50%;\n",
              "      cursor: pointer;\n",
              "      display: none;\n",
              "      fill: #1967D2;\n",
              "      height: 32px;\n",
              "      padding: 0 0 0 0;\n",
              "      width: 32px;\n",
              "    }\n",
              "\n",
              "    .colab-df-convert:hover {\n",
              "      background-color: #E2EBFA;\n",
              "      box-shadow: 0px 1px 2px rgba(60, 64, 67, 0.3), 0px 1px 3px 1px rgba(60, 64, 67, 0.15);\n",
              "      fill: #174EA6;\n",
              "    }\n",
              "\n",
              "    .colab-df-buttons div {\n",
              "      margin-bottom: 4px;\n",
              "    }\n",
              "\n",
              "    [theme=dark] .colab-df-convert {\n",
              "      background-color: #3B4455;\n",
              "      fill: #D2E3FC;\n",
              "    }\n",
              "\n",
              "    [theme=dark] .colab-df-convert:hover {\n",
              "      background-color: #434B5C;\n",
              "      box-shadow: 0px 1px 3px 1px rgba(0, 0, 0, 0.15);\n",
              "      filter: drop-shadow(0px 1px 2px rgba(0, 0, 0, 0.3));\n",
              "      fill: #FFFFFF;\n",
              "    }\n",
              "  </style>\n",
              "\n",
              "    <script>\n",
              "      const buttonEl =\n",
              "        document.querySelector('#df-0b4a5e64-7d51-4019-92f6-7ff0bb0bd361 button.colab-df-convert');\n",
              "      buttonEl.style.display =\n",
              "        google.colab.kernel.accessAllowed ? 'block' : 'none';\n",
              "\n",
              "      async function convertToInteractive(key) {\n",
              "        const element = document.querySelector('#df-0b4a5e64-7d51-4019-92f6-7ff0bb0bd361');\n",
              "        const dataTable =\n",
              "          await google.colab.kernel.invokeFunction('convertToInteractive',\n",
              "                                                    [key], {});\n",
              "        if (!dataTable) return;\n",
              "\n",
              "        const docLinkHtml = 'Like what you see? Visit the ' +\n",
              "          '<a target=\"_blank\" href=https://colab.research.google.com/notebooks/data_table.ipynb>data table notebook</a>'\n",
              "          + ' to learn more about interactive tables.';\n",
              "        element.innerHTML = '';\n",
              "        dataTable['output_type'] = 'display_data';\n",
              "        await google.colab.output.renderOutput(dataTable, element);\n",
              "        const docLink = document.createElement('div');\n",
              "        docLink.innerHTML = docLinkHtml;\n",
              "        element.appendChild(docLink);\n",
              "      }\n",
              "    </script>\n",
              "  </div>\n",
              "\n",
              "\n",
              "<div id=\"df-a07673e7-5377-4db3-9507-d83675daf1a9\">\n",
              "  <button class=\"colab-df-quickchart\" onclick=\"quickchart('df-a07673e7-5377-4db3-9507-d83675daf1a9')\"\n",
              "            title=\"Suggest charts.\"\n",
              "            style=\"display:none;\">\n",
              "\n",
              "<svg xmlns=\"http://www.w3.org/2000/svg\" height=\"24px\"viewBox=\"0 0 24 24\"\n",
              "     width=\"24px\">\n",
              "    <g>\n",
              "        <path d=\"M19 3H5c-1.1 0-2 .9-2 2v14c0 1.1.9 2 2 2h14c1.1 0 2-.9 2-2V5c0-1.1-.9-2-2-2zM9 17H7v-7h2v7zm4 0h-2V7h2v10zm4 0h-2v-4h2v4z\"/>\n",
              "    </g>\n",
              "</svg>\n",
              "  </button>\n",
              "\n",
              "<style>\n",
              "  .colab-df-quickchart {\n",
              "      --bg-color: #E8F0FE;\n",
              "      --fill-color: #1967D2;\n",
              "      --hover-bg-color: #E2EBFA;\n",
              "      --hover-fill-color: #174EA6;\n",
              "      --disabled-fill-color: #AAA;\n",
              "      --disabled-bg-color: #DDD;\n",
              "  }\n",
              "\n",
              "  [theme=dark] .colab-df-quickchart {\n",
              "      --bg-color: #3B4455;\n",
              "      --fill-color: #D2E3FC;\n",
              "      --hover-bg-color: #434B5C;\n",
              "      --hover-fill-color: #FFFFFF;\n",
              "      --disabled-bg-color: #3B4455;\n",
              "      --disabled-fill-color: #666;\n",
              "  }\n",
              "\n",
              "  .colab-df-quickchart {\n",
              "    background-color: var(--bg-color);\n",
              "    border: none;\n",
              "    border-radius: 50%;\n",
              "    cursor: pointer;\n",
              "    display: none;\n",
              "    fill: var(--fill-color);\n",
              "    height: 32px;\n",
              "    padding: 0;\n",
              "    width: 32px;\n",
              "  }\n",
              "\n",
              "  .colab-df-quickchart:hover {\n",
              "    background-color: var(--hover-bg-color);\n",
              "    box-shadow: 0 1px 2px rgba(60, 64, 67, 0.3), 0 1px 3px 1px rgba(60, 64, 67, 0.15);\n",
              "    fill: var(--button-hover-fill-color);\n",
              "  }\n",
              "\n",
              "  .colab-df-quickchart-complete:disabled,\n",
              "  .colab-df-quickchart-complete:disabled:hover {\n",
              "    background-color: var(--disabled-bg-color);\n",
              "    fill: var(--disabled-fill-color);\n",
              "    box-shadow: none;\n",
              "  }\n",
              "\n",
              "  .colab-df-spinner {\n",
              "    border: 2px solid var(--fill-color);\n",
              "    border-color: transparent;\n",
              "    border-bottom-color: var(--fill-color);\n",
              "    animation:\n",
              "      spin 1s steps(1) infinite;\n",
              "  }\n",
              "\n",
              "  @keyframes spin {\n",
              "    0% {\n",
              "      border-color: transparent;\n",
              "      border-bottom-color: var(--fill-color);\n",
              "      border-left-color: var(--fill-color);\n",
              "    }\n",
              "    20% {\n",
              "      border-color: transparent;\n",
              "      border-left-color: var(--fill-color);\n",
              "      border-top-color: var(--fill-color);\n",
              "    }\n",
              "    30% {\n",
              "      border-color: transparent;\n",
              "      border-left-color: var(--fill-color);\n",
              "      border-top-color: var(--fill-color);\n",
              "      border-right-color: var(--fill-color);\n",
              "    }\n",
              "    40% {\n",
              "      border-color: transparent;\n",
              "      border-right-color: var(--fill-color);\n",
              "      border-top-color: var(--fill-color);\n",
              "    }\n",
              "    60% {\n",
              "      border-color: transparent;\n",
              "      border-right-color: var(--fill-color);\n",
              "    }\n",
              "    80% {\n",
              "      border-color: transparent;\n",
              "      border-right-color: var(--fill-color);\n",
              "      border-bottom-color: var(--fill-color);\n",
              "    }\n",
              "    90% {\n",
              "      border-color: transparent;\n",
              "      border-bottom-color: var(--fill-color);\n",
              "    }\n",
              "  }\n",
              "</style>\n",
              "\n",
              "  <script>\n",
              "    async function quickchart(key) {\n",
              "      const quickchartButtonEl =\n",
              "        document.querySelector('#' + key + ' button');\n",
              "      quickchartButtonEl.disabled = true;  // To prevent multiple clicks.\n",
              "      quickchartButtonEl.classList.add('colab-df-spinner');\n",
              "      try {\n",
              "        const charts = await google.colab.kernel.invokeFunction(\n",
              "            'suggestCharts', [key], {});\n",
              "      } catch (error) {\n",
              "        console.error('Error during call to suggestCharts:', error);\n",
              "      }\n",
              "      quickchartButtonEl.classList.remove('colab-df-spinner');\n",
              "      quickchartButtonEl.classList.add('colab-df-quickchart-complete');\n",
              "    }\n",
              "    (() => {\n",
              "      let quickchartButtonEl =\n",
              "        document.querySelector('#df-a07673e7-5377-4db3-9507-d83675daf1a9 button');\n",
              "      quickchartButtonEl.style.display =\n",
              "        google.colab.kernel.accessAllowed ? 'block' : 'none';\n",
              "    })();\n",
              "  </script>\n",
              "</div>\n",
              "    </div>\n",
              "  </div>\n"
            ]
          },
          "metadata": {},
          "execution_count": 11
        }
      ],
      "source": [
        "df.head()"
      ]
    },
    {
      "cell_type": "markdown",
      "metadata": {
        "id": "8YqyVQcQMGiZ"
      },
      "source": [
        "# 1- População Inicial"
      ]
    },
    {
      "cell_type": "code",
      "execution_count": null,
      "metadata": {
        "id": "rEgwVJMDBfyX"
      },
      "outputs": [],
      "source": [
        "def create_combination(size):\n",
        "  return [random.choice([0, 1]) for _ in range(size)]\n"
      ]
    },
    {
      "cell_type": "code",
      "execution_count": null,
      "metadata": {
        "id": "PsB8U7puAa7q"
      },
      "outputs": [],
      "source": [
        "def initialize_population(pop_size, num_params):\n",
        "  combinations = [create_combination(num_params) for i in range(pop_size)]\n",
        "  population = np.unique(combinations, axis=0)\n",
        "\n",
        "  while population.shape[0] < pop_size:\n",
        "    difference = pop_size - population.shape[0]\n",
        "    complement = [create_combination(num_params) for i in range(difference)]\n",
        "    population = np.concatenate((population, complement))\n",
        "    population = np.unique(population, axis=0)\n",
        "\n",
        "  return population"
      ]
    },
    {
      "cell_type": "markdown",
      "metadata": {
        "id": "Cm6b5DUvMPOA"
      },
      "source": [
        "# 2- Avaliação de Aptidão"
      ]
    },
    {
      "cell_type": "markdown",
      "metadata": {
        "id": "BqetJDRmVHJK"
      },
      "source": [
        "## Treinando Modelo"
      ]
    },
    {
      "cell_type": "code",
      "execution_count": null,
      "metadata": {
        "colab": {
          "base_uri": "https://localhost:8080/"
        },
        "id": "YQTE46hggXcd",
        "outputId": "a1d4cc94-eaba-4fb8-c61b-abafa7a1ddbf"
      },
      "outputs": [
        {
          "output_type": "stream",
          "name": "stdout",
          "text": [
            "Train shape:  (216, 801)\n",
            "Val shape:  (24, 801)\n",
            "Test shape:  (27, 801)\n"
          ]
        }
      ],
      "source": [
        "X = df['excerpt_lem']\n",
        "y = df['classification']\n",
        "\n",
        "X_train, X_test, y_train, y_test = train_test_split(X,\n",
        "                                                  y,\n",
        "                                                  test_size=0.10, random_state=42)\n",
        "\n",
        "X_train, X_val, y_train, y_val = train_test_split(X_train,\n",
        "                                                  y_train,\n",
        "                                                  test_size=0.10, random_state=42)\n",
        "\n",
        "# Permite unigramas e bigramas\n",
        "# Os bigramas importam, pois se desconsiderá-los o modelo tem um resultado puor\n",
        "ngram_range = (1,2)\n",
        "\n",
        "# Este é o número mínimo de documentos que uma palavra deve estar presente para ser mantida como recurso.\n",
        "min_df = 2\n",
        "\n",
        "# Este é o número máximo de documentos em que uma palavra pode estar presente para ser mantida como recurso.\n",
        "max_df = 1. #100%\n",
        "\n",
        "# Considera apenas os tokens mais relevantes, ordenados pela frequência do termo em todo o documento\n",
        "# Se for None, ele considera todos as features\n",
        "max_features = None\n",
        "\n",
        "# Se True, aplica escala sublinear ao termo de frequência (TF), ou seja, substitui tf com 1 + log(tf).\n",
        "# Isso tem o efeito de diminuir o impacto de tokens muito frequentes.\n",
        "sublinear_tf=True\n",
        "\n",
        "tfidf = TfidfVectorizer(encoding='utf-8',\n",
        "                        ngram_range=ngram_range,\n",
        "                        lowercase=True,\n",
        "                        max_df=max_df,\n",
        "                        min_df=min_df,\n",
        "                        max_features=max_features,\n",
        "                        sublinear_tf=sublinear_tf)\n",
        "\n",
        "features_train = tfidf.fit_transform(X_train).toarray()\n",
        "features_train_df = pd.DataFrame(features_train)\n",
        "\n",
        "labels_train = y_train\n",
        "print(\"Train shape: \", features_train.shape)\n",
        "\n",
        "features_val = tfidf.transform(X_val).toarray()\n",
        "features_val_df = pd.DataFrame(features_val)\n",
        "labels_val = y_val\n",
        "print(\"Val shape: \", features_val.shape)\n",
        "\n",
        "\n",
        "features_test = tfidf.transform(X_test).toarray()\n",
        "features_test_df = pd.DataFrame(features_test)\n",
        "print(\"Test shape: \", features_test.shape)"
      ]
    },
    {
      "cell_type": "code",
      "execution_count": null,
      "metadata": {
        "id": "Q5lXczKlgkXk"
      },
      "outputs": [],
      "source": [
        "def get_model(clf_name, hyperparams=None):\n",
        "  model = None\n",
        "  if clf_name == 'Random Forest':\n",
        "    if hyperparams != None:\n",
        "      model = RandomForestClassifier(**hyperparams, random_state=random_state)\n",
        "    else:\n",
        "      model = RandomForestClassifier(random_state=random_state)\n",
        "  elif clf_name == 'Gradient Boosting':\n",
        "    if hyperparams != None:\n",
        "      model = GradientBoostingClassifier(**hyperparams, random_state=random_state)\n",
        "    else:\n",
        "      model = GradientBoostingClassifier(random_state=random_state)\n",
        "  elif clf_name == 'Decision Tree':\n",
        "      if hyperparams != None:\n",
        "        model = DecisionTreeClassifier(**hyperparams, random_state=random_state)\n",
        "      else:\n",
        "        model = DecisionTreeClassifier(random_state=random_state)\n",
        "  elif clf_name == 'Hist Gradient Boosting':\n",
        "      if hyperparams != None:\n",
        "        model = HistGradientBoostingClassifier(**hyperparams, random_state=random_state)\n",
        "      else:\n",
        "        model = HistGradientBoostingClassifier(random_state=random_state)\n",
        "\n",
        "  return model"
      ]
    },
    {
      "cell_type": "code",
      "execution_count": null,
      "metadata": {
        "id": "LfRjoyN1yLX2"
      },
      "outputs": [],
      "source": [
        "def train_model(feat_train, feat_test):\n",
        "  clf = get_model(model_name)\n",
        "  clf.fit(feat_train, labels_train)\n",
        "  y_pred = clf.predict(feat_test)\n",
        "  # multiclass problem\n",
        "  # macro: Calculate metrics for each label, and find their unweighted mean.\n",
        "  # This does not take label imbalance into account\n",
        "  # The three classes are balanced in the complete dataset\n",
        "  f1 = f1_score(labels_val, y_pred, average='macro')\n",
        "\n",
        "  return math.ceil(f1 * 100)"
      ]
    },
    {
      "cell_type": "markdown",
      "metadata": {
        "id": "y72f3m5zVHoF"
      },
      "source": [
        "## Calculando Score\n"
      ]
    },
    {
      "cell_type": "code",
      "execution_count": null,
      "metadata": {
        "id": "TAhiDdsGId37"
      },
      "outputs": [],
      "source": [
        "# Retira as colunas de um dataset com base em um array de 0 e 1\n",
        "def configure_df(params, df):\n",
        "  columns = df.columns\n",
        "  colums = [columns[i] for i in range(len(columns)) if params[i] == 0]\n",
        "  df = df.drop(colums, axis=1)\n",
        "  return df"
      ]
    },
    {
      "cell_type": "code",
      "execution_count": null,
      "metadata": {
        "id": "ezj_cv8YaAYA"
      },
      "outputs": [],
      "source": [
        "def calculate_params_score(params):\n",
        "  maxNumAttributes = math.ceil(len(params)*0.6) #número máximo de atributos é 60% do total\n",
        "  minNumAttributes = math.ceil(len(params)*0.2) #número mínimo de atributos é 20% do total\n",
        "\n",
        "  #penalizando indivíduos que não tem o número mínimo de atributos e indivíduos que tem mais atributos que o máximo desejado\n",
        "  if np.count_nonzero(params == 1) > maxNumAttributes or np.count_nonzero(params == 1) < minNumAttributes:\n",
        "    score = 0\n",
        "  else:\n",
        "    feat_train = configure_df(params, features_train_df)\n",
        "    feat_test = configure_df(params, features_val_df)\n",
        "    score = train_model(feat_train, feat_test)\n",
        "\n",
        "  return score"
      ]
    },
    {
      "cell_type": "markdown",
      "metadata": {
        "id": "9g9SuVOWMntN"
      },
      "source": [
        "# 3- Seleção"
      ]
    },
    {
      "cell_type": "code",
      "execution_count": null,
      "metadata": {
        "id": "__CDlmgHft6a"
      },
      "outputs": [],
      "source": [
        "def select_parents(population, parents_rate=0.2):\n",
        "  fitness_scores = np.apply_along_axis(calculate_params_score, axis=1, arr=population)\n",
        "\n",
        "  selected_indices = np.random.choice(len(population), size=int(parents_rate*len(population)),\n",
        "                                        p=fitness_scores / sum(fitness_scores))\n",
        "\n",
        "  return [population[i] for i in selected_indices]"
      ]
    },
    {
      "cell_type": "markdown",
      "metadata": {
        "id": "WgNiOqDvMrHO"
      },
      "source": [
        "# 4- Cruzamento"
      ]
    },
    {
      "cell_type": "code",
      "execution_count": null,
      "metadata": {
        "id": "GptB0nUvgd_m"
      },
      "outputs": [],
      "source": [
        "def crossover(parent1, parent2):\n",
        "    # Escolha aleatória do ponto de crossover\n",
        "    # Selecionando o ponto, sendo que não pode ser o primeiro nem o último para não ficar igual a um pai\n",
        "    # Randit tem intervalo aberto, então não está considerando o último\n",
        "    crossover_point = random.randint(1, len(parent1) - 1)\n",
        "\n",
        "    child1 = np.concatenate((parent1[:crossover_point], parent2[crossover_point:]))\n",
        "    child2 = np.concatenate((parent2[:crossover_point], parent1[crossover_point:]))\n",
        "    return child1, child2"
      ]
    },
    {
      "cell_type": "markdown",
      "metadata": {
        "id": "Est6OLsPMuG5"
      },
      "source": [
        "# 5- Mutação"
      ]
    },
    {
      "cell_type": "code",
      "execution_count": null,
      "metadata": {
        "id": "bTYxJ6TMiR9_"
      },
      "outputs": [],
      "source": [
        "# Existe uma probabilidade de mutação, pois a mutação não é aplicada em todos\n",
        "# Também existe um percentual de atributos que serão invertidos\n",
        "def mutate(params, mutation_rate = 100, inversion_rate = 0.3):\n",
        "    if random.random() < mutation_rate:\n",
        "        params_list = list(params)\n",
        "        # Número de atributos que serão alterados\n",
        "        numInversion = math.ceil(len(params_list)*inversion_rate)\n",
        "        # Números aleatórios entre as posições do seu vetor indivíduo\n",
        "        indexList = random.sample(range(len(params_list)), numInversion)\n",
        "        # Loop para inverter o valor dos atributos\n",
        "        for index in indexList:\n",
        "          if(params_list[index] == 0):\n",
        "            params_list[index] = 1\n",
        "          else:\n",
        "            params_list[index] = 0\n",
        "        return tuple(params_list)\n",
        "    else:\n",
        "      return params\n"
      ]
    },
    {
      "cell_type": "markdown",
      "metadata": {
        "id": "vCYJF0nonJm-"
      },
      "source": [
        "# Execução do Algoritmo Genético\n"
      ]
    },
    {
      "cell_type": "code",
      "execution_count": null,
      "metadata": {
        "id": "5dpUsNRonK0y"
      },
      "outputs": [],
      "source": [
        "# Parâmetros\n",
        "population_size = 1000\n",
        "generations = 50\n",
        "num_params = pd.DataFrame(features_train).shape[1] #Número total de parâmetros\n",
        "mutation_rate = 0.1  # Define a porcentagem de mutação\n",
        "inversion_rate = 0.2 # Define a porcentagem de parâmetros que terão seu valor invertido na mutação\n",
        "parents_rate = 0.2   # Define a porcentagem de pais\n",
        "model_name = 'Decision Tree' # Modelo utilizado na seleção\n",
        "random_state = 42"
      ]
    },
    {
      "cell_type": "code",
      "execution_count": null,
      "metadata": {
        "id": "DW5nvkCsoKjG"
      },
      "outputs": [],
      "source": [
        "population = initialize_population(population_size, num_params)"
      ]
    },
    {
      "cell_type": "code",
      "execution_count": null,
      "metadata": {
        "id": "_0N7QevoRB7o"
      },
      "outputs": [],
      "source": [
        "from concurrent.futures import ThreadPoolExecutor\n",
        "import numpy as np\n",
        "import random\n",
        "\n",
        "def generate_offspring(parents_tuple):\n",
        "    parent1, parent2 = parents_tuple\n",
        "    child1, child2 = crossover(parent1, parent2)\n",
        "    return [mutate(child1, mutation_rate, inversion_rate), mutate(child2, mutation_rate, inversion_rate)]"
      ]
    },
    {
      "cell_type": "code",
      "execution_count": null,
      "metadata": {
        "colab": {
          "base_uri": "https://localhost:8080/"
        },
        "id": "xYsFeyHaoeRx",
        "outputId": "6f2a305c-6ed0-4736-c73a-95697b169b92"
      },
      "outputs": [
        {
          "output_type": "stream",
          "name": "stdout",
          "text": [
            "-- generation=0\n",
            "-- generation=1\n",
            "-- generation=2\n",
            "-- generation=3\n",
            "-- generation=4\n",
            "-- generation=5\n",
            "-- generation=6\n",
            "-- generation=7\n",
            "-- generation=8\n",
            "-- generation=9\n",
            "-- generation=10\n",
            "-- generation=11\n",
            "-- generation=12\n",
            "-- generation=13\n",
            "-- generation=14\n",
            "-- generation=15\n",
            "-- generation=16\n",
            "-- generation=17\n",
            "-- generation=18\n",
            "-- generation=19\n",
            "-- generation=20\n",
            "-- generation=21\n",
            "-- generation=22\n",
            "-- generation=23\n"
          ]
        }
      ],
      "source": [
        "%%time\n",
        "for generation in range(generations):\n",
        "    print(f\"-- {generation=}\")\n",
        "    parents = select_parents(population, parents_rate)\n",
        "    offspring = []\n",
        "\n",
        "    with ThreadPoolExecutor() as executor:\n",
        "        parents_tuples = [(parent, random.choice(parents)) for parent in parents]\n",
        "        offspring_lists = list(executor.map(generate_offspring, parents_tuples))\n",
        "        for o in offspring_lists:\n",
        "            offspring.extend(o)\n",
        "\n",
        "    combined_population = np.unique(np.vstack((parents, offspring)), axis=0)\n",
        "\n",
        "    with ThreadPoolExecutor() as executor:\n",
        "        fitness_scores = list(executor.map(calculate_params_score, combined_population))\n",
        "\n",
        "    sorted_indices = np.argsort(fitness_scores)[::-1]\n",
        "    sorted_indices = sorted_indices[(sorted_indices < combined_population.shape[0])]\n",
        "    combined_population = combined_population[sorted_indices[:population_size]]\n",
        "\n",
        "    while len(combined_population) < population_size:\n",
        "        random_individual = np.copy(random.choice(combined_population))\n",
        "        mutated_individual = mutate(random_individual, 1, inversion_rate)\n",
        "        if not np.any(np.all(combined_population == mutated_individual, axis=1)):\n",
        "            combined_population = np.unique(np.vstack((combined_population, mutated_individual)), axis=0)\n",
        "\n",
        "    population = combined_population[:population_size]\n",
        "\n",
        "best_params = max(population, key=calculate_params_score)\n",
        "print(f\"Melhores parâmetros: {best_params} \\nScore: {int(calculate_params_score(best_params))}\")\n"
      ]
    },
    {
      "cell_type": "markdown",
      "metadata": {
        "id": "LisKLVOGfjcb"
      },
      "source": [
        "# Attribute Selection"
      ]
    },
    {
      "cell_type": "code",
      "execution_count": null,
      "metadata": {
        "id": "UIPuxk12x_r8"
      },
      "outputs": [],
      "source": [
        "best_val_df = configure_df(best_params, features_val_df)\n",
        "best_train_df = configure_df(best_params, features_train_df)\n",
        "best_test_df = configure_df(best_params, features_test_df)"
      ]
    },
    {
      "cell_type": "code",
      "execution_count": null,
      "metadata": {
        "id": "nRMkj_TWR4Lc"
      },
      "outputs": [],
      "source": [
        "genetic_f1 = train_model(best_train_df, best_val_df)\n",
        "genetic_f1"
      ]
    },
    {
      "cell_type": "code",
      "execution_count": null,
      "metadata": {
        "id": "BWNwQFkvSH9j"
      },
      "outputs": [],
      "source": [
        "clf = get_model(model_name)\n",
        "clf.fit(best_train_df, y_train)\n",
        "\n",
        "pred_genetic = clf.predict(best_test_df)\n",
        "f1_score(y_test, pred_genetic, average='macro')"
      ]
    },
    {
      "cell_type": "markdown",
      "metadata": {
        "id": "BQWeHgp_dLJn"
      },
      "source": [
        "# Kbest"
      ]
    },
    {
      "cell_type": "code",
      "execution_count": null,
      "metadata": {
        "id": "fc_mYgTefwQi"
      },
      "outputs": [],
      "source": [
        "features_value = len(best_train_df.columns)\n",
        "features_value"
      ]
    },
    {
      "cell_type": "code",
      "execution_count": null,
      "metadata": {
        "id": "yHF_Z-4ZMpYm"
      },
      "outputs": [],
      "source": [
        "selector = SelectKBest(chi2, k=features_value) # k de acordo com a quantidade de atributos selecionada pelo algoritmo genético\n",
        "features_train_kbest = selector.fit_transform(features_train, labels_train)\n",
        "features_test_kbest = selector.transform(features_test)\n",
        "features_val_kbest = selector.transform(features_val)"
      ]
    },
    {
      "cell_type": "code",
      "execution_count": null,
      "metadata": {
        "id": "hh-zjfRVC12b"
      },
      "outputs": [],
      "source": [
        "kbest_f1 = train_model(features_train_kbest, features_val_kbest)\n",
        "kbest_f1"
      ]
    },
    {
      "cell_type": "code",
      "execution_count": null,
      "metadata": {
        "id": "6OUHDLxoSgab"
      },
      "outputs": [],
      "source": [
        "clf = get_model(model_name)\n",
        "clf.fit(features_train_kbest, y_train)\n",
        "\n",
        "pred_kbest = clf.predict(features_test_kbest)\n",
        "f1_score(y_test, pred_kbest, average='macro')"
      ]
    },
    {
      "cell_type": "markdown",
      "metadata": {
        "id": "VKn_3cUNxYsu"
      },
      "source": [
        "# RandomSearch"
      ]
    },
    {
      "cell_type": "code",
      "execution_count": null,
      "metadata": {
        "id": "JubMguWPxjX6"
      },
      "outputs": [],
      "source": [
        "def get_params(model_name):\n",
        "    depths = [None]\n",
        "\n",
        "    params = dict()\n",
        "    if model_name == 'Decision Tree':\n",
        "        depths.extend(np.arange(1, 20, 1, dtype=int).tolist())\n",
        "        params = {\n",
        "                    'max_depth': depths,\n",
        "                    'min_samples_split': np.arange(2, 10, 1, dtype=int),\n",
        "                    'min_samples_leaf': np.arange(1, 10, 1, dtype=int)\n",
        "                }\n",
        "    elif model_name == 'Random Forest':\n",
        "        depths.extend(np.arange(20, 200, 10, dtype=int).tolist())\n",
        "        params = {\n",
        "              'n_estimators': [int(x) for x in np.linspace(start = 200, stop = 1000, num = 5)],\n",
        "              'max_depth': depths,\n",
        "              'min_samples_split': np.arange(2, 20, 1, dtype=int),\n",
        "              'min_samples_leaf': np.arange(1, 20, 1, dtype=int),\n",
        "              'max_features': ['auto', 'sqrt'],\n",
        "              'bootstrap':  [True, False]\n",
        "          }\n",
        "\n",
        "    elif model_name == 'Gradient Boosting':\n",
        "        depths.extend(np.arange(1, 5, 1, dtype=int).tolist())\n",
        "        params = {\n",
        "                        'max_depth': depths,\n",
        "                        'min_samples_split': np.arange(0.01, 0.1, 0.01, dtype=float),\n",
        "                        'learning_rate': np.arange(0.01, 0.1, 0.01, dtype=float)\n",
        "                    }\n",
        "    elif model_name == 'Hist Gradient Boosting':\n",
        "        depths.extend(np.arange(1, 5, 1, dtype=int).tolist())\n",
        "        params = {\n",
        "                        'max_depth': depths,\n",
        "                        'min_samples_leaf': [1,5,10,15,20,25],\n",
        "                        'learning_rate': np.arange(0.01, 0.1, 0.01, dtype=float)\n",
        "                    }\n",
        "\n",
        "\n",
        "    return params\n"
      ]
    },
    {
      "cell_type": "code",
      "execution_count": null,
      "metadata": {
        "id": "eBugMSU0xyUF"
      },
      "outputs": [],
      "source": [
        "# o randomsearch só será feito ao final, após a seleção dos MELHORES atributos\n",
        "# TODO add others classifiers, like SVM\n",
        "def random_search(clf_name, ft_train, labels):\n",
        "  score_metrics = {'F1': 'f1_macro', 'Accuracy': 'accuracy'}\n",
        "  model = get_model(clf_name)\n",
        "  clf_params = get_params(clf_name)\n",
        "\n",
        "  random_search = RandomizedSearchCV(estimator=model,\n",
        "                                   param_distributions=clf_params,\n",
        "                                   n_iter=10,\n",
        "                                   scoring=score_metrics,\n",
        "                                   refit='F1',\n",
        "                                   cv=5,\n",
        "                                   verbose=1,\n",
        "                                   n_jobs = -1)\n",
        "\n",
        "\n",
        "  random_search.fit(ft_train, labels)\n",
        "\n",
        "  print(random_search.cv_results_)\n",
        "\n",
        "  return random_search.best_params_"
      ]
    },
    {
      "cell_type": "code",
      "execution_count": null,
      "metadata": {
        "id": "HZyaXDebx102"
      },
      "outputs": [],
      "source": [
        "# executando os melhores atributos no grid search\n",
        "\n",
        "# algoritmo genético\n",
        "best_clf_params = random_search(model_name, best_train_df, labels_train)\n",
        "\n",
        "print(f\"Best {model_name}'s params:\\n{best_clf_params}\")"
      ]
    },
    {
      "cell_type": "code",
      "execution_count": null,
      "metadata": {
        "id": "r8piVQg_pZK7"
      },
      "outputs": [],
      "source": [
        "best_clf_params"
      ]
    },
    {
      "cell_type": "code",
      "execution_count": null,
      "metadata": {
        "id": "1_vINr7gjKMK"
      },
      "outputs": [],
      "source": [
        "\n",
        "best_clf_params_kbest = random_search(model_name, features_train_kbest, labels_train)\n",
        "\n",
        "print(f\"Best {model_name}'s params:\\n{best_clf_params_kbest}\")"
      ]
    },
    {
      "cell_type": "markdown",
      "metadata": {
        "id": "6QYVDejDfynD"
      },
      "source": [
        "# Training with only best params"
      ]
    },
    {
      "cell_type": "code",
      "execution_count": null,
      "metadata": {
        "id": "x9-2XL5FpElo"
      },
      "outputs": [],
      "source": [
        "# usando os parametros do algoritmo genético\n",
        "final_model = get_model(model_name, best_clf_params)\n",
        "final_model"
      ]
    },
    {
      "cell_type": "code",
      "execution_count": null,
      "metadata": {
        "id": "9XBp9hTafynI"
      },
      "outputs": [],
      "source": [
        "final_model.fit(best_train_df, labels_train)"
      ]
    },
    {
      "cell_type": "code",
      "execution_count": null,
      "metadata": {
        "id": "dHgGeMITjTai"
      },
      "outputs": [],
      "source": [
        "final_model_kbest = get_model(model_name, best_clf_params_kbest)\n",
        "final_model_kbest"
      ]
    },
    {
      "cell_type": "code",
      "execution_count": null,
      "metadata": {
        "id": "EPjeTNXnjXXa"
      },
      "outputs": [],
      "source": [
        "final_model_kbest.fit(features_train_kbest, labels_train)"
      ]
    },
    {
      "cell_type": "markdown",
      "metadata": {
        "id": "WXFjQ69nfynJ"
      },
      "source": [
        "## Final score"
      ]
    },
    {
      "cell_type": "code",
      "execution_count": null,
      "metadata": {
        "id": "ES5rnHBifynJ"
      },
      "outputs": [],
      "source": [
        "y_pred = final_model.predict(best_test_df)\n",
        "y_pred_kbest = final_model_kbest.predict(features_test_kbest)\n",
        "acc = accuracy_score(y_test, y_pred)\n",
        "f1 = f1_score(y_test, y_pred, average='macro')\n",
        "\n",
        "acc_kbest = accuracy_score(y_test, y_pred_kbest)\n",
        "f1_kbest = f1_score(y_test, y_pred_kbest, average='macro')\n",
        "\n",
        "print('Algoritmo genético: ')\n",
        "print(f\"Accuracy: {acc}\")\n",
        "print(f\"F1 score: {f1}\")\n",
        "print('Algoritmo KBest: ')\n",
        "print(f\"Accuracy: {acc_kbest}\")\n",
        "print(f\"F1 score: {f1_kbest}\")"
      ]
    },
    {
      "cell_type": "code",
      "execution_count": null,
      "metadata": {
        "id": "JH7OitWbm56I"
      },
      "outputs": [],
      "source": [
        "def saving_results(clf_name, f1_value, num_att, att_selection, full_path=''):\n",
        "\n",
        "    csv_path = os.path.join(full_path, 'results.csv')\n",
        "\n",
        "    dict_data = {'model_name': [clf_name],\n",
        "                 'features': [num_att],\n",
        "                 'attribute_selection': [att_selection],\n",
        "                 'f1_score': [f1_value]\n",
        "                 }\n",
        "    # checking if we've already had some csv file result\n",
        "    if os.path.exists(csv_path):\n",
        "        df_res = pd.read_csv(csv_path, sep=';')\n",
        "        df_ = pd.DataFrame(dict_data)\n",
        "        df_res = pd.concat([df_res, df_])\n",
        "    else:\n",
        "       df_res = pd.DataFrame(dict_data)\n",
        "\n",
        "    df_res.to_csv(csv_path, sep=';', index=False)\n",
        "\n",
        "    print(f\"CSV file saved with succcess!\")\n",
        "\n",
        "    return df_res"
      ]
    },
    {
      "cell_type": "code",
      "execution_count": null,
      "metadata": {
        "id": "e2hGz7m5fynJ"
      },
      "outputs": [],
      "source": [
        "# clf_name, f1_value, num_att, att_selection, full_path=''\n",
        "saving_results(model_name, f1, features_value, 'Genetico', directory)"
      ]
    },
    {
      "cell_type": "code",
      "execution_count": null,
      "metadata": {
        "id": "UMLPwl5Uj2m7"
      },
      "outputs": [],
      "source": [
        "saving_results(model_name, f1_kbest, features_value, 'Kbest', directory)"
      ]
    },
    {
      "cell_type": "markdown",
      "metadata": {
        "id": "ZgQS0lHSxfT3"
      },
      "source": [
        "# Avaliando modelos gerados"
      ]
    },
    {
      "cell_type": "markdown",
      "source": [
        "## Primeiro Treino"
      ],
      "metadata": {
        "id": "FjM_QASW32y8"
      }
    },
    {
      "cell_type": "markdown",
      "source": [
        "O primeiro treino foi feito com `min_df=6` no TFIDF, `n_iter=5` no `RandomizedSearchCV` e 50 gerações com 500 de população no algoritmo genético."
      ],
      "metadata": {
        "id": "nIK5qne735r-"
      }
    },
    {
      "cell_type": "code",
      "execution_count": null,
      "metadata": {
        "id": "v0wo31Qvm4yP",
        "colab": {
          "base_uri": "https://localhost:8080/",
          "height": 300
        },
        "outputId": "c80dad04-4b57-4991-92a6-a19c1ae7bc86"
      },
      "outputs": [
        {
          "output_type": "execute_result",
          "data": {
            "text/plain": [
              "               model_name  features attribute_selection  f1_score\n",
              "0           Decision Tree        65            Genetico  0.489815\n",
              "1           Decision Tree        65               Kbest  0.550446\n",
              "2       Gradient Boosting        62            Genetico  0.548203\n",
              "3       Gradient Boosting        62               Kbest  0.572264\n",
              "4  Hist Gradient Boosting        61            Genetico  0.541533\n",
              "5  Hist Gradient Boosting        61               Kbest  0.509524\n",
              "6           Random Forest        72            Genetico  0.472339\n",
              "7           Random Forest        72               Kbest  0.592157"
            ],
            "text/html": [
              "\n",
              "  <div id=\"df-8f2fa45c-9648-4538-9b7f-dd697cc306f4\" class=\"colab-df-container\">\n",
              "    <div>\n",
              "<style scoped>\n",
              "    .dataframe tbody tr th:only-of-type {\n",
              "        vertical-align: middle;\n",
              "    }\n",
              "\n",
              "    .dataframe tbody tr th {\n",
              "        vertical-align: top;\n",
              "    }\n",
              "\n",
              "    .dataframe thead th {\n",
              "        text-align: right;\n",
              "    }\n",
              "</style>\n",
              "<table border=\"1\" class=\"dataframe\">\n",
              "  <thead>\n",
              "    <tr style=\"text-align: right;\">\n",
              "      <th></th>\n",
              "      <th>model_name</th>\n",
              "      <th>features</th>\n",
              "      <th>attribute_selection</th>\n",
              "      <th>f1_score</th>\n",
              "    </tr>\n",
              "  </thead>\n",
              "  <tbody>\n",
              "    <tr>\n",
              "      <th>0</th>\n",
              "      <td>Decision Tree</td>\n",
              "      <td>65</td>\n",
              "      <td>Genetico</td>\n",
              "      <td>0.489815</td>\n",
              "    </tr>\n",
              "    <tr>\n",
              "      <th>1</th>\n",
              "      <td>Decision Tree</td>\n",
              "      <td>65</td>\n",
              "      <td>Kbest</td>\n",
              "      <td>0.550446</td>\n",
              "    </tr>\n",
              "    <tr>\n",
              "      <th>2</th>\n",
              "      <td>Gradient Boosting</td>\n",
              "      <td>62</td>\n",
              "      <td>Genetico</td>\n",
              "      <td>0.548203</td>\n",
              "    </tr>\n",
              "    <tr>\n",
              "      <th>3</th>\n",
              "      <td>Gradient Boosting</td>\n",
              "      <td>62</td>\n",
              "      <td>Kbest</td>\n",
              "      <td>0.572264</td>\n",
              "    </tr>\n",
              "    <tr>\n",
              "      <th>4</th>\n",
              "      <td>Hist Gradient Boosting</td>\n",
              "      <td>61</td>\n",
              "      <td>Genetico</td>\n",
              "      <td>0.541533</td>\n",
              "    </tr>\n",
              "    <tr>\n",
              "      <th>5</th>\n",
              "      <td>Hist Gradient Boosting</td>\n",
              "      <td>61</td>\n",
              "      <td>Kbest</td>\n",
              "      <td>0.509524</td>\n",
              "    </tr>\n",
              "    <tr>\n",
              "      <th>6</th>\n",
              "      <td>Random Forest</td>\n",
              "      <td>72</td>\n",
              "      <td>Genetico</td>\n",
              "      <td>0.472339</td>\n",
              "    </tr>\n",
              "    <tr>\n",
              "      <th>7</th>\n",
              "      <td>Random Forest</td>\n",
              "      <td>72</td>\n",
              "      <td>Kbest</td>\n",
              "      <td>0.592157</td>\n",
              "    </tr>\n",
              "  </tbody>\n",
              "</table>\n",
              "</div>\n",
              "    <div class=\"colab-df-buttons\">\n",
              "\n",
              "  <div class=\"colab-df-container\">\n",
              "    <button class=\"colab-df-convert\" onclick=\"convertToInteractive('df-8f2fa45c-9648-4538-9b7f-dd697cc306f4')\"\n",
              "            title=\"Convert this dataframe to an interactive table.\"\n",
              "            style=\"display:none;\">\n",
              "\n",
              "  <svg xmlns=\"http://www.w3.org/2000/svg\" height=\"24px\" viewBox=\"0 -960 960 960\">\n",
              "    <path d=\"M120-120v-720h720v720H120Zm60-500h600v-160H180v160Zm220 220h160v-160H400v160Zm0 220h160v-160H400v160ZM180-400h160v-160H180v160Zm440 0h160v-160H620v160ZM180-180h160v-160H180v160Zm440 0h160v-160H620v160Z\"/>\n",
              "  </svg>\n",
              "    </button>\n",
              "\n",
              "  <style>\n",
              "    .colab-df-container {\n",
              "      display:flex;\n",
              "      gap: 12px;\n",
              "    }\n",
              "\n",
              "    .colab-df-convert {\n",
              "      background-color: #E8F0FE;\n",
              "      border: none;\n",
              "      border-radius: 50%;\n",
              "      cursor: pointer;\n",
              "      display: none;\n",
              "      fill: #1967D2;\n",
              "      height: 32px;\n",
              "      padding: 0 0 0 0;\n",
              "      width: 32px;\n",
              "    }\n",
              "\n",
              "    .colab-df-convert:hover {\n",
              "      background-color: #E2EBFA;\n",
              "      box-shadow: 0px 1px 2px rgba(60, 64, 67, 0.3), 0px 1px 3px 1px rgba(60, 64, 67, 0.15);\n",
              "      fill: #174EA6;\n",
              "    }\n",
              "\n",
              "    .colab-df-buttons div {\n",
              "      margin-bottom: 4px;\n",
              "    }\n",
              "\n",
              "    [theme=dark] .colab-df-convert {\n",
              "      background-color: #3B4455;\n",
              "      fill: #D2E3FC;\n",
              "    }\n",
              "\n",
              "    [theme=dark] .colab-df-convert:hover {\n",
              "      background-color: #434B5C;\n",
              "      box-shadow: 0px 1px 3px 1px rgba(0, 0, 0, 0.15);\n",
              "      filter: drop-shadow(0px 1px 2px rgba(0, 0, 0, 0.3));\n",
              "      fill: #FFFFFF;\n",
              "    }\n",
              "  </style>\n",
              "\n",
              "    <script>\n",
              "      const buttonEl =\n",
              "        document.querySelector('#df-8f2fa45c-9648-4538-9b7f-dd697cc306f4 button.colab-df-convert');\n",
              "      buttonEl.style.display =\n",
              "        google.colab.kernel.accessAllowed ? 'block' : 'none';\n",
              "\n",
              "      async function convertToInteractive(key) {\n",
              "        const element = document.querySelector('#df-8f2fa45c-9648-4538-9b7f-dd697cc306f4');\n",
              "        const dataTable =\n",
              "          await google.colab.kernel.invokeFunction('convertToInteractive',\n",
              "                                                    [key], {});\n",
              "        if (!dataTable) return;\n",
              "\n",
              "        const docLinkHtml = 'Like what you see? Visit the ' +\n",
              "          '<a target=\"_blank\" href=https://colab.research.google.com/notebooks/data_table.ipynb>data table notebook</a>'\n",
              "          + ' to learn more about interactive tables.';\n",
              "        element.innerHTML = '';\n",
              "        dataTable['output_type'] = 'display_data';\n",
              "        await google.colab.output.renderOutput(dataTable, element);\n",
              "        const docLink = document.createElement('div');\n",
              "        docLink.innerHTML = docLinkHtml;\n",
              "        element.appendChild(docLink);\n",
              "      }\n",
              "    </script>\n",
              "  </div>\n",
              "\n",
              "\n",
              "<div id=\"df-23072408-1fa3-4dd2-8601-3fcda2052f92\">\n",
              "  <button class=\"colab-df-quickchart\" onclick=\"quickchart('df-23072408-1fa3-4dd2-8601-3fcda2052f92')\"\n",
              "            title=\"Suggest charts.\"\n",
              "            style=\"display:none;\">\n",
              "\n",
              "<svg xmlns=\"http://www.w3.org/2000/svg\" height=\"24px\"viewBox=\"0 0 24 24\"\n",
              "     width=\"24px\">\n",
              "    <g>\n",
              "        <path d=\"M19 3H5c-1.1 0-2 .9-2 2v14c0 1.1.9 2 2 2h14c1.1 0 2-.9 2-2V5c0-1.1-.9-2-2-2zM9 17H7v-7h2v7zm4 0h-2V7h2v10zm4 0h-2v-4h2v4z\"/>\n",
              "    </g>\n",
              "</svg>\n",
              "  </button>\n",
              "\n",
              "<style>\n",
              "  .colab-df-quickchart {\n",
              "      --bg-color: #E8F0FE;\n",
              "      --fill-color: #1967D2;\n",
              "      --hover-bg-color: #E2EBFA;\n",
              "      --hover-fill-color: #174EA6;\n",
              "      --disabled-fill-color: #AAA;\n",
              "      --disabled-bg-color: #DDD;\n",
              "  }\n",
              "\n",
              "  [theme=dark] .colab-df-quickchart {\n",
              "      --bg-color: #3B4455;\n",
              "      --fill-color: #D2E3FC;\n",
              "      --hover-bg-color: #434B5C;\n",
              "      --hover-fill-color: #FFFFFF;\n",
              "      --disabled-bg-color: #3B4455;\n",
              "      --disabled-fill-color: #666;\n",
              "  }\n",
              "\n",
              "  .colab-df-quickchart {\n",
              "    background-color: var(--bg-color);\n",
              "    border: none;\n",
              "    border-radius: 50%;\n",
              "    cursor: pointer;\n",
              "    display: none;\n",
              "    fill: var(--fill-color);\n",
              "    height: 32px;\n",
              "    padding: 0;\n",
              "    width: 32px;\n",
              "  }\n",
              "\n",
              "  .colab-df-quickchart:hover {\n",
              "    background-color: var(--hover-bg-color);\n",
              "    box-shadow: 0 1px 2px rgba(60, 64, 67, 0.3), 0 1px 3px 1px rgba(60, 64, 67, 0.15);\n",
              "    fill: var(--button-hover-fill-color);\n",
              "  }\n",
              "\n",
              "  .colab-df-quickchart-complete:disabled,\n",
              "  .colab-df-quickchart-complete:disabled:hover {\n",
              "    background-color: var(--disabled-bg-color);\n",
              "    fill: var(--disabled-fill-color);\n",
              "    box-shadow: none;\n",
              "  }\n",
              "\n",
              "  .colab-df-spinner {\n",
              "    border: 2px solid var(--fill-color);\n",
              "    border-color: transparent;\n",
              "    border-bottom-color: var(--fill-color);\n",
              "    animation:\n",
              "      spin 1s steps(1) infinite;\n",
              "  }\n",
              "\n",
              "  @keyframes spin {\n",
              "    0% {\n",
              "      border-color: transparent;\n",
              "      border-bottom-color: var(--fill-color);\n",
              "      border-left-color: var(--fill-color);\n",
              "    }\n",
              "    20% {\n",
              "      border-color: transparent;\n",
              "      border-left-color: var(--fill-color);\n",
              "      border-top-color: var(--fill-color);\n",
              "    }\n",
              "    30% {\n",
              "      border-color: transparent;\n",
              "      border-left-color: var(--fill-color);\n",
              "      border-top-color: var(--fill-color);\n",
              "      border-right-color: var(--fill-color);\n",
              "    }\n",
              "    40% {\n",
              "      border-color: transparent;\n",
              "      border-right-color: var(--fill-color);\n",
              "      border-top-color: var(--fill-color);\n",
              "    }\n",
              "    60% {\n",
              "      border-color: transparent;\n",
              "      border-right-color: var(--fill-color);\n",
              "    }\n",
              "    80% {\n",
              "      border-color: transparent;\n",
              "      border-right-color: var(--fill-color);\n",
              "      border-bottom-color: var(--fill-color);\n",
              "    }\n",
              "    90% {\n",
              "      border-color: transparent;\n",
              "      border-bottom-color: var(--fill-color);\n",
              "    }\n",
              "  }\n",
              "</style>\n",
              "\n",
              "  <script>\n",
              "    async function quickchart(key) {\n",
              "      const quickchartButtonEl =\n",
              "        document.querySelector('#' + key + ' button');\n",
              "      quickchartButtonEl.disabled = true;  // To prevent multiple clicks.\n",
              "      quickchartButtonEl.classList.add('colab-df-spinner');\n",
              "      try {\n",
              "        const charts = await google.colab.kernel.invokeFunction(\n",
              "            'suggestCharts', [key], {});\n",
              "      } catch (error) {\n",
              "        console.error('Error during call to suggestCharts:', error);\n",
              "      }\n",
              "      quickchartButtonEl.classList.remove('colab-df-spinner');\n",
              "      quickchartButtonEl.classList.add('colab-df-quickchart-complete');\n",
              "    }\n",
              "    (() => {\n",
              "      let quickchartButtonEl =\n",
              "        document.querySelector('#df-23072408-1fa3-4dd2-8601-3fcda2052f92 button');\n",
              "      quickchartButtonEl.style.display =\n",
              "        google.colab.kernel.accessAllowed ? 'block' : 'none';\n",
              "    })();\n",
              "  </script>\n",
              "</div>\n",
              "    </div>\n",
              "  </div>\n"
            ]
          },
          "metadata": {},
          "execution_count": 10
        }
      ],
      "source": [
        "pd.read_csv(f\"{directory}/results/old_result_50gen_500pop.csv\", sep=\";\")"
      ]
    },
    {
      "cell_type": "markdown",
      "metadata": {
        "id": "3pZap5HaNwRK"
      },
      "source": [
        "Observando os resultados obtidos e analisando os modelos treinados observando apenas a seleção de atributos do KBest, percebe-se que o classificador Random Forest, consegue a melhor performance, com 59,21% de F1 score. Enquanto, para o Algoritmo genético, o maior valor foi alcançado pelo Gradient Boosting, com 54,82% de F1 score.\n",
        "\n",
        "Vale ressaltar, que ao executar o treinamento dos modelos sem alteração dos valores de seus parâmetros, usando apenas os conjuntos de treino e validação, percebemos que em todos os casos usando o algoritmo do KBest obteve performance menor do que utilizando o Genético. Isso nos faz questionar sobre as caraceterísticas dos nossos conjuntos de dados, já que, mesmo passando pelo RandomSearchCV, a performance decaiu para usando ambos algoritmos de seleção de atributos, equanto esperava-se que o desempenho fosse melhorado com o uso dos dois algoritmos.\n",
        "\n",
        "Sendo assim, é interessante investigar quais características dos nossos conjuntos de treino e validação faltaram para que o modelo fosse um pouco mais generalizado, além do que mais o conjunto de teste poderia estar constituído de diferente dos de treino e validação."
      ]
    },
    {
      "cell_type": "markdown",
      "metadata": {
        "id": "AbNaT2FXa7Ef"
      },
      "source": [
        "Além disso, percebeu-se que o algoritmo genético apresentou um score F1 maior que o KBest quanto utilizamos o modelo Hist Gradient Boosting.\n",
        "\n",
        "Acreditamos, que outra hipótese para a diminuição do score do algoritmos genético após o RandomSearch é que a nossa seleção de atributos pode ter sido enviesada pelo conjunto de validação do modelo."
      ]
    },
    {
      "cell_type": "markdown",
      "metadata": {
        "id": "2YnXhtwd2Rcu"
      },
      "source": [
        "Somado a isso, observamos que no modelo Random Forest, o algoritmo genético resultou na maior quantidade de atributos selecionados e, coincidentemente, foi o classificador, que mesmo após a aplicação do Random Search CV para encontrar os melhores parâmetros, obteve pior performance comparado aos outros modelos usando os atributos selecionados pelo algoritmo genético."
      ]
    },
    {
      "cell_type": "markdown",
      "source": [
        "## Segundo Treino"
      ],
      "metadata": {
        "id": "JsiK0t0GuQ6u"
      }
    },
    {
      "cell_type": "markdown",
      "source": [
        "Alteramos o parâmetro `min_df` do TFIDF de 6 para 2, além de seguir as recomendações da documentação do sklearn modificando os parâmetros `n_inter` do `RandomizedSearchCV` para 10, respectivamente, sendo esses os melhores parâmetros encontrados para os novos testes. Além disso, o algoritmo genético rodou 5 gerações com 100 de população.\n"
      ],
      "metadata": {
        "id": "_0xP5-rqo1ZR"
      }
    },
    {
      "cell_type": "code",
      "source": [
        "pd.read_csv(f\"{directory}/results/result_5gen_100pop.csv\", sep=\";\")"
      ],
      "metadata": {
        "colab": {
          "base_uri": "https://localhost:8080/",
          "height": 300
        },
        "id": "9Bn9oxpwpy3E",
        "outputId": "3af46344-a1f2-4155-d78a-efc9e9cbf214"
      },
      "execution_count": null,
      "outputs": [
        {
          "output_type": "execute_result",
          "data": {
            "text/plain": [
              "               model_name  features attribute_selection  f1_score\n",
              "0           Random Forest       388            Genetico  0.585185\n",
              "1           Random Forest       388               Kbest  0.551852\n",
              "2       Gradient Boosting       381            Genetico  0.508772\n",
              "3       Gradient Boosting       381               Kbest  0.630556\n",
              "4           Decision Tree       418            Genetico  0.334392\n",
              "5           Decision Tree       418               Kbest  0.441234\n",
              "6  Hist Gradient Boosting       397            Genetico  0.558881\n",
              "7  Hist Gradient Boosting       397               Kbest  0.671053"
            ],
            "text/html": [
              "\n",
              "  <div id=\"df-17c1ef03-e259-4326-925b-e161285b6b7d\" class=\"colab-df-container\">\n",
              "    <div>\n",
              "<style scoped>\n",
              "    .dataframe tbody tr th:only-of-type {\n",
              "        vertical-align: middle;\n",
              "    }\n",
              "\n",
              "    .dataframe tbody tr th {\n",
              "        vertical-align: top;\n",
              "    }\n",
              "\n",
              "    .dataframe thead th {\n",
              "        text-align: right;\n",
              "    }\n",
              "</style>\n",
              "<table border=\"1\" class=\"dataframe\">\n",
              "  <thead>\n",
              "    <tr style=\"text-align: right;\">\n",
              "      <th></th>\n",
              "      <th>model_name</th>\n",
              "      <th>features</th>\n",
              "      <th>attribute_selection</th>\n",
              "      <th>f1_score</th>\n",
              "    </tr>\n",
              "  </thead>\n",
              "  <tbody>\n",
              "    <tr>\n",
              "      <th>0</th>\n",
              "      <td>Random Forest</td>\n",
              "      <td>388</td>\n",
              "      <td>Genetico</td>\n",
              "      <td>0.585185</td>\n",
              "    </tr>\n",
              "    <tr>\n",
              "      <th>1</th>\n",
              "      <td>Random Forest</td>\n",
              "      <td>388</td>\n",
              "      <td>Kbest</td>\n",
              "      <td>0.551852</td>\n",
              "    </tr>\n",
              "    <tr>\n",
              "      <th>2</th>\n",
              "      <td>Gradient Boosting</td>\n",
              "      <td>381</td>\n",
              "      <td>Genetico</td>\n",
              "      <td>0.508772</td>\n",
              "    </tr>\n",
              "    <tr>\n",
              "      <th>3</th>\n",
              "      <td>Gradient Boosting</td>\n",
              "      <td>381</td>\n",
              "      <td>Kbest</td>\n",
              "      <td>0.630556</td>\n",
              "    </tr>\n",
              "    <tr>\n",
              "      <th>4</th>\n",
              "      <td>Decision Tree</td>\n",
              "      <td>418</td>\n",
              "      <td>Genetico</td>\n",
              "      <td>0.334392</td>\n",
              "    </tr>\n",
              "    <tr>\n",
              "      <th>5</th>\n",
              "      <td>Decision Tree</td>\n",
              "      <td>418</td>\n",
              "      <td>Kbest</td>\n",
              "      <td>0.441234</td>\n",
              "    </tr>\n",
              "    <tr>\n",
              "      <th>6</th>\n",
              "      <td>Hist Gradient Boosting</td>\n",
              "      <td>397</td>\n",
              "      <td>Genetico</td>\n",
              "      <td>0.558881</td>\n",
              "    </tr>\n",
              "    <tr>\n",
              "      <th>7</th>\n",
              "      <td>Hist Gradient Boosting</td>\n",
              "      <td>397</td>\n",
              "      <td>Kbest</td>\n",
              "      <td>0.671053</td>\n",
              "    </tr>\n",
              "  </tbody>\n",
              "</table>\n",
              "</div>\n",
              "    <div class=\"colab-df-buttons\">\n",
              "\n",
              "  <div class=\"colab-df-container\">\n",
              "    <button class=\"colab-df-convert\" onclick=\"convertToInteractive('df-17c1ef03-e259-4326-925b-e161285b6b7d')\"\n",
              "            title=\"Convert this dataframe to an interactive table.\"\n",
              "            style=\"display:none;\">\n",
              "\n",
              "  <svg xmlns=\"http://www.w3.org/2000/svg\" height=\"24px\" viewBox=\"0 -960 960 960\">\n",
              "    <path d=\"M120-120v-720h720v720H120Zm60-500h600v-160H180v160Zm220 220h160v-160H400v160Zm0 220h160v-160H400v160ZM180-400h160v-160H180v160Zm440 0h160v-160H620v160ZM180-180h160v-160H180v160Zm440 0h160v-160H620v160Z\"/>\n",
              "  </svg>\n",
              "    </button>\n",
              "\n",
              "  <style>\n",
              "    .colab-df-container {\n",
              "      display:flex;\n",
              "      gap: 12px;\n",
              "    }\n",
              "\n",
              "    .colab-df-convert {\n",
              "      background-color: #E8F0FE;\n",
              "      border: none;\n",
              "      border-radius: 50%;\n",
              "      cursor: pointer;\n",
              "      display: none;\n",
              "      fill: #1967D2;\n",
              "      height: 32px;\n",
              "      padding: 0 0 0 0;\n",
              "      width: 32px;\n",
              "    }\n",
              "\n",
              "    .colab-df-convert:hover {\n",
              "      background-color: #E2EBFA;\n",
              "      box-shadow: 0px 1px 2px rgba(60, 64, 67, 0.3), 0px 1px 3px 1px rgba(60, 64, 67, 0.15);\n",
              "      fill: #174EA6;\n",
              "    }\n",
              "\n",
              "    .colab-df-buttons div {\n",
              "      margin-bottom: 4px;\n",
              "    }\n",
              "\n",
              "    [theme=dark] .colab-df-convert {\n",
              "      background-color: #3B4455;\n",
              "      fill: #D2E3FC;\n",
              "    }\n",
              "\n",
              "    [theme=dark] .colab-df-convert:hover {\n",
              "      background-color: #434B5C;\n",
              "      box-shadow: 0px 1px 3px 1px rgba(0, 0, 0, 0.15);\n",
              "      filter: drop-shadow(0px 1px 2px rgba(0, 0, 0, 0.3));\n",
              "      fill: #FFFFFF;\n",
              "    }\n",
              "  </style>\n",
              "\n",
              "    <script>\n",
              "      const buttonEl =\n",
              "        document.querySelector('#df-17c1ef03-e259-4326-925b-e161285b6b7d button.colab-df-convert');\n",
              "      buttonEl.style.display =\n",
              "        google.colab.kernel.accessAllowed ? 'block' : 'none';\n",
              "\n",
              "      async function convertToInteractive(key) {\n",
              "        const element = document.querySelector('#df-17c1ef03-e259-4326-925b-e161285b6b7d');\n",
              "        const dataTable =\n",
              "          await google.colab.kernel.invokeFunction('convertToInteractive',\n",
              "                                                    [key], {});\n",
              "        if (!dataTable) return;\n",
              "\n",
              "        const docLinkHtml = 'Like what you see? Visit the ' +\n",
              "          '<a target=\"_blank\" href=https://colab.research.google.com/notebooks/data_table.ipynb>data table notebook</a>'\n",
              "          + ' to learn more about interactive tables.';\n",
              "        element.innerHTML = '';\n",
              "        dataTable['output_type'] = 'display_data';\n",
              "        await google.colab.output.renderOutput(dataTable, element);\n",
              "        const docLink = document.createElement('div');\n",
              "        docLink.innerHTML = docLinkHtml;\n",
              "        element.appendChild(docLink);\n",
              "      }\n",
              "    </script>\n",
              "  </div>\n",
              "\n",
              "\n",
              "<div id=\"df-aeca1578-d9e5-4374-a952-194cf99eec65\">\n",
              "  <button class=\"colab-df-quickchart\" onclick=\"quickchart('df-aeca1578-d9e5-4374-a952-194cf99eec65')\"\n",
              "            title=\"Suggest charts.\"\n",
              "            style=\"display:none;\">\n",
              "\n",
              "<svg xmlns=\"http://www.w3.org/2000/svg\" height=\"24px\"viewBox=\"0 0 24 24\"\n",
              "     width=\"24px\">\n",
              "    <g>\n",
              "        <path d=\"M19 3H5c-1.1 0-2 .9-2 2v14c0 1.1.9 2 2 2h14c1.1 0 2-.9 2-2V5c0-1.1-.9-2-2-2zM9 17H7v-7h2v7zm4 0h-2V7h2v10zm4 0h-2v-4h2v4z\"/>\n",
              "    </g>\n",
              "</svg>\n",
              "  </button>\n",
              "\n",
              "<style>\n",
              "  .colab-df-quickchart {\n",
              "      --bg-color: #E8F0FE;\n",
              "      --fill-color: #1967D2;\n",
              "      --hover-bg-color: #E2EBFA;\n",
              "      --hover-fill-color: #174EA6;\n",
              "      --disabled-fill-color: #AAA;\n",
              "      --disabled-bg-color: #DDD;\n",
              "  }\n",
              "\n",
              "  [theme=dark] .colab-df-quickchart {\n",
              "      --bg-color: #3B4455;\n",
              "      --fill-color: #D2E3FC;\n",
              "      --hover-bg-color: #434B5C;\n",
              "      --hover-fill-color: #FFFFFF;\n",
              "      --disabled-bg-color: #3B4455;\n",
              "      --disabled-fill-color: #666;\n",
              "  }\n",
              "\n",
              "  .colab-df-quickchart {\n",
              "    background-color: var(--bg-color);\n",
              "    border: none;\n",
              "    border-radius: 50%;\n",
              "    cursor: pointer;\n",
              "    display: none;\n",
              "    fill: var(--fill-color);\n",
              "    height: 32px;\n",
              "    padding: 0;\n",
              "    width: 32px;\n",
              "  }\n",
              "\n",
              "  .colab-df-quickchart:hover {\n",
              "    background-color: var(--hover-bg-color);\n",
              "    box-shadow: 0 1px 2px rgba(60, 64, 67, 0.3), 0 1px 3px 1px rgba(60, 64, 67, 0.15);\n",
              "    fill: var(--button-hover-fill-color);\n",
              "  }\n",
              "\n",
              "  .colab-df-quickchart-complete:disabled,\n",
              "  .colab-df-quickchart-complete:disabled:hover {\n",
              "    background-color: var(--disabled-bg-color);\n",
              "    fill: var(--disabled-fill-color);\n",
              "    box-shadow: none;\n",
              "  }\n",
              "\n",
              "  .colab-df-spinner {\n",
              "    border: 2px solid var(--fill-color);\n",
              "    border-color: transparent;\n",
              "    border-bottom-color: var(--fill-color);\n",
              "    animation:\n",
              "      spin 1s steps(1) infinite;\n",
              "  }\n",
              "\n",
              "  @keyframes spin {\n",
              "    0% {\n",
              "      border-color: transparent;\n",
              "      border-bottom-color: var(--fill-color);\n",
              "      border-left-color: var(--fill-color);\n",
              "    }\n",
              "    20% {\n",
              "      border-color: transparent;\n",
              "      border-left-color: var(--fill-color);\n",
              "      border-top-color: var(--fill-color);\n",
              "    }\n",
              "    30% {\n",
              "      border-color: transparent;\n",
              "      border-left-color: var(--fill-color);\n",
              "      border-top-color: var(--fill-color);\n",
              "      border-right-color: var(--fill-color);\n",
              "    }\n",
              "    40% {\n",
              "      border-color: transparent;\n",
              "      border-right-color: var(--fill-color);\n",
              "      border-top-color: var(--fill-color);\n",
              "    }\n",
              "    60% {\n",
              "      border-color: transparent;\n",
              "      border-right-color: var(--fill-color);\n",
              "    }\n",
              "    80% {\n",
              "      border-color: transparent;\n",
              "      border-right-color: var(--fill-color);\n",
              "      border-bottom-color: var(--fill-color);\n",
              "    }\n",
              "    90% {\n",
              "      border-color: transparent;\n",
              "      border-bottom-color: var(--fill-color);\n",
              "    }\n",
              "  }\n",
              "</style>\n",
              "\n",
              "  <script>\n",
              "    async function quickchart(key) {\n",
              "      const quickchartButtonEl =\n",
              "        document.querySelector('#' + key + ' button');\n",
              "      quickchartButtonEl.disabled = true;  // To prevent multiple clicks.\n",
              "      quickchartButtonEl.classList.add('colab-df-spinner');\n",
              "      try {\n",
              "        const charts = await google.colab.kernel.invokeFunction(\n",
              "            'suggestCharts', [key], {});\n",
              "      } catch (error) {\n",
              "        console.error('Error during call to suggestCharts:', error);\n",
              "      }\n",
              "      quickchartButtonEl.classList.remove('colab-df-spinner');\n",
              "      quickchartButtonEl.classList.add('colab-df-quickchart-complete');\n",
              "    }\n",
              "    (() => {\n",
              "      let quickchartButtonEl =\n",
              "        document.querySelector('#df-aeca1578-d9e5-4374-a952-194cf99eec65 button');\n",
              "      quickchartButtonEl.style.display =\n",
              "        google.colab.kernel.accessAllowed ? 'block' : 'none';\n",
              "    })();\n",
              "  </script>\n",
              "</div>\n",
              "    </div>\n",
              "  </div>\n"
            ]
          },
          "metadata": {},
          "execution_count": 9
        }
      ]
    },
    {
      "cell_type": "markdown",
      "source": [
        "A partir dos novos resultados, percebeu-se que a quantidade de _features_ aumentou significativamente, isso aconteceu pois diminuimos a quantidade de documentos necessários em que uma palavra precisa estar para ser considerada relevante no TFIDF, então mais _tokens_ foram adicionados aos treinos. Isso permitiu que nosso modelo utilizasse mais palavras para realizar a classificação, o que melhorou levemente as pontuações. No entanto, apenas o `RandomForest` foi melhor que o KBest."
      ],
      "metadata": {
        "id": "dKwYj_sqpykT"
      }
    },
    {
      "cell_type": "markdown",
      "source": [
        "As alterações realizadas no `RandomizedSearchCV` diminuiram a alta diferença entre o resultado do algoritmo genético e o resultado final, pois com o aumento do número de iterações no CV, pôde-se treinar mais vezes com cada combinação de hiperparâmetros passada, possibilitando encontrar uma melhor combinação e valores mais altos de `score`."
      ],
      "metadata": {
        "id": "ohxO5kTVsHgm"
      }
    },
    {
      "cell_type": "markdown",
      "source": [
        "Vale ressaltar também que a variação de scores obtidos entre as execuções do `RandomSearchCV` influenciam na média encontrada, uma vez que, dependendo da amostra de dados executada no algoritmo, o valor de `score` obtido pode ser tão alto, que aumente drasticamente essa média resultante. O que também pode acontecer é do `score` ser tão baixo que reduza bastante a média obtida, considerando apenas para uma amostra específica com uma combinação de parâmetros exclusiva, não significando que aquela média realmente representa os resultados adquiridos. Dessa forma, é interessante realizar uma investigação acerca dessas amostras com resultados \"fora do comum\", para saber quais características esses dados possuem para impactar com valores tão diferentes do que foi obtido em outras amostras."
      ],
      "metadata": {
        "id": "aEPS7XUpokGK"
      }
    }
  ],
  "metadata": {
    "colab": {
      "collapsed_sections": [
        "2Vt5YME0H3XB",
        "8YqyVQcQMGiZ",
        "9g9SuVOWMntN",
        "WgNiOqDvMrHO",
        "Est6OLsPMuG5"
      ],
      "toc_visible": true,
      "provenance": [],
      "include_colab_link": true
    },
    "kernelspec": {
      "display_name": "Python 3",
      "name": "python3"
    },
    "language_info": {
      "name": "python"
    }
  },
  "nbformat": 4,
  "nbformat_minor": 0
}